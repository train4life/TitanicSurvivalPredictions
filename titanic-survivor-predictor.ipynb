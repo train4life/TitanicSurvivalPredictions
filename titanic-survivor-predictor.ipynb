{
 "cells": [
  {
   "cell_type": "code",
   "execution_count": 1,
   "id": "490b4c58",
   "metadata": {
    "_cell_guid": "b1076dfc-b9ad-4769-8c92-a6c4dae69d19",
    "_uuid": "8f2839f25d086af736a60e9eeb907d3b93b6e0e5",
    "execution": {
     "iopub.execute_input": "2023-07-02T20:58:01.570643Z",
     "iopub.status.busy": "2023-07-02T20:58:01.570136Z",
     "iopub.status.idle": "2023-07-02T20:58:05.556463Z",
     "shell.execute_reply": "2023-07-02T20:58:05.555470Z"
    },
    "papermill": {
     "duration": 4.008713,
     "end_time": "2023-07-02T20:58:05.559691",
     "exception": false,
     "start_time": "2023-07-02T20:58:01.550978",
     "status": "completed"
    },
    "tags": []
   },
   "outputs": [
    {
     "name": "stdout",
     "output_type": "stream",
     "text": [
      "/kaggle/input/titanic/train.csv\n",
      "/kaggle/input/titanic/test.csv\n",
      "/kaggle/input/titanic/gender_submission.csv\n"
     ]
    }
   ],
   "source": [
    "# This Python 3 environment comes with many helpful analytics libraries installed\n",
    "# It is defined by the kaggle/python Docker image: https://github.com/kaggle/docker-python\n",
    "# For example, here's several helpful packages to load\n",
    "\n",
    "import numpy as np # linear algebra\n",
    "import pandas as pd # data processing, CSV file I/O (e.g. pd.read_csv)\n",
    "from sklearn.metrics import accuracy_score\n",
    "import pandas as pd\n",
    "import numpy as np\n",
    "import matplotlib.pyplot as plt\n",
    "import seaborn as sns\n",
    "from sklearn.model_selection import train_test_split\n",
    "\n",
    "from sklearn.preprocessing import OrdinalEncoder\n",
    "from sklearn.preprocessing import OneHotEncoder\n",
    "from sklearn.preprocessing import LabelEncoder\n",
    "from sklearn.utils import resample\n",
    "\n",
    "from sklearn.ensemble import RandomForestClassifier\n",
    "from sklearn.naive_bayes import GaussianNB\n",
    "import xgboost as xgb\n",
    "from sklearn.model_selection import *\n",
    "from sklearn.linear_model import *\n",
    "from sklearn.tree import *\n",
    "from catboost import CatBoostClassifier\n",
    "from sklearn.dummy import DummyClassifier\n",
    "from xgboost import XGBClassifier\n",
    "from sklearn.ensemble import AdaBoostClassifier\n",
    "import lightgbm as lgb\n",
    "\n",
    "from sklearn import metrics\n",
    "import matplotlib.pyplot as plt\n",
    "\n",
    "\n",
    "import seaborn as sns\n",
    "sns.set_theme(style=\"whitegrid\")\n",
    "\n",
    "# Input data files are available in the read-only \"../input/\" directory\n",
    "# For example, running this (by clicking run or pressing Shift+Enter) will list all files under the input directory\n",
    "\n",
    "import os\n",
    "for dirname, _, filenames in os.walk('/kaggle/input'):\n",
    "    for filename in filenames:\n",
    "        print(os.path.join(dirname, filename))\n",
    "\n",
    "# You can write up to 20GB to the current directory (/kaggle/working/) that gets preserved as output when you create a version using \"Save & Run All\" \n",
    "# You can also write temporary files to /kaggle/temp/, but they won't be saved outside of the current session"
   ]
  },
  {
   "cell_type": "markdown",
   "id": "9c5fbbfa",
   "metadata": {
    "papermill": {
     "duration": 0.017039,
     "end_time": "2023-07-02T20:58:05.595710",
     "exception": false,
     "start_time": "2023-07-02T20:58:05.578671",
     "status": "completed"
    },
    "tags": []
   },
   "source": [
    "# **Importing Train and Test Dataframes**"
   ]
  },
  {
   "cell_type": "code",
   "execution_count": 2,
   "id": "c23c6f13",
   "metadata": {
    "execution": {
     "iopub.execute_input": "2023-07-02T20:58:05.632437Z",
     "iopub.status.busy": "2023-07-02T20:58:05.631747Z",
     "iopub.status.idle": "2023-07-02T20:58:05.692713Z",
     "shell.execute_reply": "2023-07-02T20:58:05.691414Z"
    },
    "papermill": {
     "duration": 0.082621,
     "end_time": "2023-07-02T20:58:05.695563",
     "exception": false,
     "start_time": "2023-07-02T20:58:05.612942",
     "status": "completed"
    },
    "tags": []
   },
   "outputs": [
    {
     "data": {
      "text/html": [
       "<div>\n",
       "<style scoped>\n",
       "    .dataframe tbody tr th:only-of-type {\n",
       "        vertical-align: middle;\n",
       "    }\n",
       "\n",
       "    .dataframe tbody tr th {\n",
       "        vertical-align: top;\n",
       "    }\n",
       "\n",
       "    .dataframe thead th {\n",
       "        text-align: right;\n",
       "    }\n",
       "</style>\n",
       "<table border=\"1\" class=\"dataframe\">\n",
       "  <thead>\n",
       "    <tr style=\"text-align: right;\">\n",
       "      <th></th>\n",
       "      <th>PassengerId</th>\n",
       "      <th>Survived</th>\n",
       "      <th>Pclass</th>\n",
       "      <th>Name</th>\n",
       "      <th>Sex</th>\n",
       "      <th>Age</th>\n",
       "      <th>SibSp</th>\n",
       "      <th>Parch</th>\n",
       "      <th>Ticket</th>\n",
       "      <th>Fare</th>\n",
       "      <th>Cabin</th>\n",
       "      <th>Embarked</th>\n",
       "    </tr>\n",
       "  </thead>\n",
       "  <tbody>\n",
       "    <tr>\n",
       "      <th>0</th>\n",
       "      <td>1</td>\n",
       "      <td>0</td>\n",
       "      <td>3</td>\n",
       "      <td>Braund, Mr. Owen Harris</td>\n",
       "      <td>male</td>\n",
       "      <td>22.0</td>\n",
       "      <td>1</td>\n",
       "      <td>0</td>\n",
       "      <td>A/5 21171</td>\n",
       "      <td>7.2500</td>\n",
       "      <td>NaN</td>\n",
       "      <td>S</td>\n",
       "    </tr>\n",
       "    <tr>\n",
       "      <th>1</th>\n",
       "      <td>2</td>\n",
       "      <td>1</td>\n",
       "      <td>1</td>\n",
       "      <td>Cumings, Mrs. John Bradley (Florence Briggs Th...</td>\n",
       "      <td>female</td>\n",
       "      <td>38.0</td>\n",
       "      <td>1</td>\n",
       "      <td>0</td>\n",
       "      <td>PC 17599</td>\n",
       "      <td>71.2833</td>\n",
       "      <td>C85</td>\n",
       "      <td>C</td>\n",
       "    </tr>\n",
       "    <tr>\n",
       "      <th>2</th>\n",
       "      <td>3</td>\n",
       "      <td>1</td>\n",
       "      <td>3</td>\n",
       "      <td>Heikkinen, Miss. Laina</td>\n",
       "      <td>female</td>\n",
       "      <td>26.0</td>\n",
       "      <td>0</td>\n",
       "      <td>0</td>\n",
       "      <td>STON/O2. 3101282</td>\n",
       "      <td>7.9250</td>\n",
       "      <td>NaN</td>\n",
       "      <td>S</td>\n",
       "    </tr>\n",
       "    <tr>\n",
       "      <th>3</th>\n",
       "      <td>4</td>\n",
       "      <td>1</td>\n",
       "      <td>1</td>\n",
       "      <td>Futrelle, Mrs. Jacques Heath (Lily May Peel)</td>\n",
       "      <td>female</td>\n",
       "      <td>35.0</td>\n",
       "      <td>1</td>\n",
       "      <td>0</td>\n",
       "      <td>113803</td>\n",
       "      <td>53.1000</td>\n",
       "      <td>C123</td>\n",
       "      <td>S</td>\n",
       "    </tr>\n",
       "    <tr>\n",
       "      <th>4</th>\n",
       "      <td>5</td>\n",
       "      <td>0</td>\n",
       "      <td>3</td>\n",
       "      <td>Allen, Mr. William Henry</td>\n",
       "      <td>male</td>\n",
       "      <td>35.0</td>\n",
       "      <td>0</td>\n",
       "      <td>0</td>\n",
       "      <td>373450</td>\n",
       "      <td>8.0500</td>\n",
       "      <td>NaN</td>\n",
       "      <td>S</td>\n",
       "    </tr>\n",
       "  </tbody>\n",
       "</table>\n",
       "</div>"
      ],
      "text/plain": [
       "   PassengerId  Survived  Pclass  \\\n",
       "0            1         0       3   \n",
       "1            2         1       1   \n",
       "2            3         1       3   \n",
       "3            4         1       1   \n",
       "4            5         0       3   \n",
       "\n",
       "                                                Name     Sex   Age  SibSp  \\\n",
       "0                            Braund, Mr. Owen Harris    male  22.0      1   \n",
       "1  Cumings, Mrs. John Bradley (Florence Briggs Th...  female  38.0      1   \n",
       "2                             Heikkinen, Miss. Laina  female  26.0      0   \n",
       "3       Futrelle, Mrs. Jacques Heath (Lily May Peel)  female  35.0      1   \n",
       "4                           Allen, Mr. William Henry    male  35.0      0   \n",
       "\n",
       "   Parch            Ticket     Fare Cabin Embarked  \n",
       "0      0         A/5 21171   7.2500   NaN        S  \n",
       "1      0          PC 17599  71.2833   C85        C  \n",
       "2      0  STON/O2. 3101282   7.9250   NaN        S  \n",
       "3      0            113803  53.1000  C123        S  \n",
       "4      0            373450   8.0500   NaN        S  "
      ]
     },
     "execution_count": 2,
     "metadata": {},
     "output_type": "execute_result"
    }
   ],
   "source": [
    "train_df = pd.read_csv('/kaggle/input/titanic/train.csv')\n",
    "train_df.head()"
   ]
  },
  {
   "cell_type": "code",
   "execution_count": 3,
   "id": "4bf5d8d2",
   "metadata": {
    "execution": {
     "iopub.execute_input": "2023-07-02T20:58:05.733609Z",
     "iopub.status.busy": "2023-07-02T20:58:05.733202Z",
     "iopub.status.idle": "2023-07-02T20:58:05.757343Z",
     "shell.execute_reply": "2023-07-02T20:58:05.755921Z"
    },
    "papermill": {
     "duration": 0.045956,
     "end_time": "2023-07-02T20:58:05.759908",
     "exception": false,
     "start_time": "2023-07-02T20:58:05.713952",
     "status": "completed"
    },
    "tags": []
   },
   "outputs": [
    {
     "data": {
      "text/html": [
       "<div>\n",
       "<style scoped>\n",
       "    .dataframe tbody tr th:only-of-type {\n",
       "        vertical-align: middle;\n",
       "    }\n",
       "\n",
       "    .dataframe tbody tr th {\n",
       "        vertical-align: top;\n",
       "    }\n",
       "\n",
       "    .dataframe thead th {\n",
       "        text-align: right;\n",
       "    }\n",
       "</style>\n",
       "<table border=\"1\" class=\"dataframe\">\n",
       "  <thead>\n",
       "    <tr style=\"text-align: right;\">\n",
       "      <th></th>\n",
       "      <th>PassengerId</th>\n",
       "      <th>Pclass</th>\n",
       "      <th>Name</th>\n",
       "      <th>Sex</th>\n",
       "      <th>Age</th>\n",
       "      <th>SibSp</th>\n",
       "      <th>Parch</th>\n",
       "      <th>Ticket</th>\n",
       "      <th>Fare</th>\n",
       "      <th>Cabin</th>\n",
       "      <th>Embarked</th>\n",
       "    </tr>\n",
       "  </thead>\n",
       "  <tbody>\n",
       "    <tr>\n",
       "      <th>0</th>\n",
       "      <td>892</td>\n",
       "      <td>3</td>\n",
       "      <td>Kelly, Mr. James</td>\n",
       "      <td>male</td>\n",
       "      <td>34.5</td>\n",
       "      <td>0</td>\n",
       "      <td>0</td>\n",
       "      <td>330911</td>\n",
       "      <td>7.8292</td>\n",
       "      <td>NaN</td>\n",
       "      <td>Q</td>\n",
       "    </tr>\n",
       "    <tr>\n",
       "      <th>1</th>\n",
       "      <td>893</td>\n",
       "      <td>3</td>\n",
       "      <td>Wilkes, Mrs. James (Ellen Needs)</td>\n",
       "      <td>female</td>\n",
       "      <td>47.0</td>\n",
       "      <td>1</td>\n",
       "      <td>0</td>\n",
       "      <td>363272</td>\n",
       "      <td>7.0000</td>\n",
       "      <td>NaN</td>\n",
       "      <td>S</td>\n",
       "    </tr>\n",
       "    <tr>\n",
       "      <th>2</th>\n",
       "      <td>894</td>\n",
       "      <td>2</td>\n",
       "      <td>Myles, Mr. Thomas Francis</td>\n",
       "      <td>male</td>\n",
       "      <td>62.0</td>\n",
       "      <td>0</td>\n",
       "      <td>0</td>\n",
       "      <td>240276</td>\n",
       "      <td>9.6875</td>\n",
       "      <td>NaN</td>\n",
       "      <td>Q</td>\n",
       "    </tr>\n",
       "    <tr>\n",
       "      <th>3</th>\n",
       "      <td>895</td>\n",
       "      <td>3</td>\n",
       "      <td>Wirz, Mr. Albert</td>\n",
       "      <td>male</td>\n",
       "      <td>27.0</td>\n",
       "      <td>0</td>\n",
       "      <td>0</td>\n",
       "      <td>315154</td>\n",
       "      <td>8.6625</td>\n",
       "      <td>NaN</td>\n",
       "      <td>S</td>\n",
       "    </tr>\n",
       "    <tr>\n",
       "      <th>4</th>\n",
       "      <td>896</td>\n",
       "      <td>3</td>\n",
       "      <td>Hirvonen, Mrs. Alexander (Helga E Lindqvist)</td>\n",
       "      <td>female</td>\n",
       "      <td>22.0</td>\n",
       "      <td>1</td>\n",
       "      <td>1</td>\n",
       "      <td>3101298</td>\n",
       "      <td>12.2875</td>\n",
       "      <td>NaN</td>\n",
       "      <td>S</td>\n",
       "    </tr>\n",
       "  </tbody>\n",
       "</table>\n",
       "</div>"
      ],
      "text/plain": [
       "   PassengerId  Pclass                                          Name     Sex  \\\n",
       "0          892       3                              Kelly, Mr. James    male   \n",
       "1          893       3              Wilkes, Mrs. James (Ellen Needs)  female   \n",
       "2          894       2                     Myles, Mr. Thomas Francis    male   \n",
       "3          895       3                              Wirz, Mr. Albert    male   \n",
       "4          896       3  Hirvonen, Mrs. Alexander (Helga E Lindqvist)  female   \n",
       "\n",
       "    Age  SibSp  Parch   Ticket     Fare Cabin Embarked  \n",
       "0  34.5      0      0   330911   7.8292   NaN        Q  \n",
       "1  47.0      1      0   363272   7.0000   NaN        S  \n",
       "2  62.0      0      0   240276   9.6875   NaN        Q  \n",
       "3  27.0      0      0   315154   8.6625   NaN        S  \n",
       "4  22.0      1      1  3101298  12.2875   NaN        S  "
      ]
     },
     "execution_count": 3,
     "metadata": {},
     "output_type": "execute_result"
    }
   ],
   "source": [
    "test_df = pd.read_csv('/kaggle/input/titanic/test.csv')\n",
    "test_df.head()"
   ]
  },
  {
   "cell_type": "markdown",
   "id": "fcf3baeb",
   "metadata": {
    "papermill": {
     "duration": 0.017475,
     "end_time": "2023-07-02T20:58:05.796456",
     "exception": false,
     "start_time": "2023-07-02T20:58:05.778981",
     "status": "completed"
    },
    "tags": []
   },
   "source": [
    "# Viewing the info for the data"
   ]
  },
  {
   "cell_type": "code",
   "execution_count": 4,
   "id": "d2326711",
   "metadata": {
    "execution": {
     "iopub.execute_input": "2023-07-02T20:58:05.835166Z",
     "iopub.status.busy": "2023-07-02T20:58:05.834729Z",
     "iopub.status.idle": "2023-07-02T20:58:05.861969Z",
     "shell.execute_reply": "2023-07-02T20:58:05.860760Z"
    },
    "papermill": {
     "duration": 0.048897,
     "end_time": "2023-07-02T20:58:05.864363",
     "exception": false,
     "start_time": "2023-07-02T20:58:05.815466",
     "status": "completed"
    },
    "tags": []
   },
   "outputs": [
    {
     "name": "stdout",
     "output_type": "stream",
     "text": [
      "<class 'pandas.core.frame.DataFrame'>\n",
      "RangeIndex: 891 entries, 0 to 890\n",
      "Data columns (total 12 columns):\n",
      " #   Column       Non-Null Count  Dtype  \n",
      "---  ------       --------------  -----  \n",
      " 0   PassengerId  891 non-null    int64  \n",
      " 1   Survived     891 non-null    int64  \n",
      " 2   Pclass       891 non-null    int64  \n",
      " 3   Name         891 non-null    object \n",
      " 4   Sex          891 non-null    object \n",
      " 5   Age          714 non-null    float64\n",
      " 6   SibSp        891 non-null    int64  \n",
      " 7   Parch        891 non-null    int64  \n",
      " 8   Ticket       891 non-null    object \n",
      " 9   Fare         891 non-null    float64\n",
      " 10  Cabin        204 non-null    object \n",
      " 11  Embarked     889 non-null    object \n",
      "dtypes: float64(2), int64(5), object(5)\n",
      "memory usage: 83.7+ KB\n"
     ]
    }
   ],
   "source": [
    "train_df.info()"
   ]
  },
  {
   "cell_type": "markdown",
   "id": "ebe0b205",
   "metadata": {
    "papermill": {
     "duration": 0.017812,
     "end_time": "2023-07-02T20:58:05.900176",
     "exception": false,
     "start_time": "2023-07-02T20:58:05.882364",
     "status": "completed"
    },
    "tags": []
   },
   "source": [
    "Viewing null values in the dataset."
   ]
  },
  {
   "cell_type": "markdown",
   "id": "69341a84",
   "metadata": {
    "papermill": {
     "duration": 0.017659,
     "end_time": "2023-07-02T20:58:05.935608",
     "exception": false,
     "start_time": "2023-07-02T20:58:05.917949",
     "status": "completed"
    },
    "tags": []
   },
   "source": [
    "### Viewing the null values in the dataset.\n",
    "* Age can be filled in with the median.\n",
    "* Embarked can be filled in with the mode. "
   ]
  },
  {
   "cell_type": "code",
   "execution_count": 5,
   "id": "22c97518",
   "metadata": {
    "execution": {
     "iopub.execute_input": "2023-07-02T20:58:05.973404Z",
     "iopub.status.busy": "2023-07-02T20:58:05.972648Z",
     "iopub.status.idle": "2023-07-02T20:58:05.983429Z",
     "shell.execute_reply": "2023-07-02T20:58:05.982539Z"
    },
    "papermill": {
     "duration": 0.032672,
     "end_time": "2023-07-02T20:58:05.985967",
     "exception": false,
     "start_time": "2023-07-02T20:58:05.953295",
     "status": "completed"
    },
    "tags": []
   },
   "outputs": [
    {
     "data": {
      "text/plain": [
       "PassengerId      0\n",
       "Survived         0\n",
       "Pclass           0\n",
       "Name             0\n",
       "Sex              0\n",
       "Age            177\n",
       "SibSp            0\n",
       "Parch            0\n",
       "Ticket           0\n",
       "Fare             0\n",
       "Cabin          687\n",
       "Embarked         2\n",
       "dtype: int64"
      ]
     },
     "execution_count": 5,
     "metadata": {},
     "output_type": "execute_result"
    }
   ],
   "source": [
    "train_df.isna().sum()"
   ]
  },
  {
   "cell_type": "markdown",
   "id": "e86ae1f7",
   "metadata": {
    "papermill": {
     "duration": 0.017838,
     "end_time": "2023-07-02T20:58:06.021983",
     "exception": false,
     "start_time": "2023-07-02T20:58:06.004145",
     "status": "completed"
    },
    "tags": []
   },
   "source": [
    "Finding the median age of the passengers on the titanic."
   ]
  },
  {
   "cell_type": "code",
   "execution_count": 6,
   "id": "5f786962",
   "metadata": {
    "execution": {
     "iopub.execute_input": "2023-07-02T20:58:06.060432Z",
     "iopub.status.busy": "2023-07-02T20:58:06.059795Z",
     "iopub.status.idle": "2023-07-02T20:58:06.067947Z",
     "shell.execute_reply": "2023-07-02T20:58:06.066719Z"
    },
    "papermill": {
     "duration": 0.030264,
     "end_time": "2023-07-02T20:58:06.070386",
     "exception": false,
     "start_time": "2023-07-02T20:58:06.040122",
     "status": "completed"
    },
    "tags": []
   },
   "outputs": [
    {
     "name": "stdout",
     "output_type": "stream",
     "text": [
      "The average age of the passengers on the titanic in our dataset was 28.0 years old.\n"
     ]
    }
   ],
   "source": [
    "median_age = train_df['Age'].median()\n",
    "print(f'The average age of the passengers on the titanic in our dataset was {median_age} years old.')"
   ]
  },
  {
   "cell_type": "markdown",
   "id": "63a3850f",
   "metadata": {
    "papermill": {
     "duration": 0.017926,
     "end_time": "2023-07-02T20:58:06.106559",
     "exception": false,
     "start_time": "2023-07-02T20:58:06.088633",
     "status": "completed"
    },
    "tags": []
   },
   "source": [
    "Filling in the Age column with the median age, which is 28.0."
   ]
  },
  {
   "cell_type": "code",
   "execution_count": 7,
   "id": "38f0dfab",
   "metadata": {
    "execution": {
     "iopub.execute_input": "2023-07-02T20:58:06.144612Z",
     "iopub.status.busy": "2023-07-02T20:58:06.144176Z",
     "iopub.status.idle": "2023-07-02T20:58:06.149705Z",
     "shell.execute_reply": "2023-07-02T20:58:06.148627Z"
    },
    "papermill": {
     "duration": 0.027601,
     "end_time": "2023-07-02T20:58:06.152240",
     "exception": false,
     "start_time": "2023-07-02T20:58:06.124639",
     "status": "completed"
    },
    "tags": []
   },
   "outputs": [],
   "source": [
    "train_df['Age'] = train_df['Age'].fillna(median_age)"
   ]
  },
  {
   "cell_type": "markdown",
   "id": "0618a322",
   "metadata": {
    "papermill": {
     "duration": 0.018061,
     "end_time": "2023-07-02T20:58:06.189062",
     "exception": false,
     "start_time": "2023-07-02T20:58:06.171001",
     "status": "completed"
    },
    "tags": []
   },
   "source": [
    "Sanity Check on the null values being filled in."
   ]
  },
  {
   "cell_type": "code",
   "execution_count": 8,
   "id": "82e6f80f",
   "metadata": {
    "execution": {
     "iopub.execute_input": "2023-07-02T20:58:06.228723Z",
     "iopub.status.busy": "2023-07-02T20:58:06.227469Z",
     "iopub.status.idle": "2023-07-02T20:58:06.239932Z",
     "shell.execute_reply": "2023-07-02T20:58:06.238862Z"
    },
    "papermill": {
     "duration": 0.03515,
     "end_time": "2023-07-02T20:58:06.242694",
     "exception": false,
     "start_time": "2023-07-02T20:58:06.207544",
     "status": "completed"
    },
    "tags": []
   },
   "outputs": [
    {
     "data": {
      "text/plain": [
       "PassengerId      0\n",
       "Survived         0\n",
       "Pclass           0\n",
       "Name             0\n",
       "Sex              0\n",
       "Age              0\n",
       "SibSp            0\n",
       "Parch            0\n",
       "Ticket           0\n",
       "Fare             0\n",
       "Cabin          687\n",
       "Embarked         2\n",
       "dtype: int64"
      ]
     },
     "execution_count": 8,
     "metadata": {},
     "output_type": "execute_result"
    }
   ],
   "source": [
    "train_df.isna().sum()"
   ]
  },
  {
   "cell_type": "markdown",
   "id": "31dfea8a",
   "metadata": {
    "papermill": {
     "duration": 0.017948,
     "end_time": "2023-07-02T20:58:06.279298",
     "exception": false,
     "start_time": "2023-07-02T20:58:06.261350",
     "status": "completed"
    },
    "tags": []
   },
   "source": [
    "Checking to make sure that filling in the null values with the median age didn't affect the median age of the set."
   ]
  },
  {
   "cell_type": "code",
   "execution_count": 9,
   "id": "cc5aa3fc",
   "metadata": {
    "execution": {
     "iopub.execute_input": "2023-07-02T20:58:06.318314Z",
     "iopub.status.busy": "2023-07-02T20:58:06.317145Z",
     "iopub.status.idle": "2023-07-02T20:58:06.325460Z",
     "shell.execute_reply": "2023-07-02T20:58:06.324067Z"
    },
    "papermill": {
     "duration": 0.030493,
     "end_time": "2023-07-02T20:58:06.327995",
     "exception": false,
     "start_time": "2023-07-02T20:58:06.297502",
     "status": "completed"
    },
    "tags": []
   },
   "outputs": [
    {
     "name": "stdout",
     "output_type": "stream",
     "text": [
      "The average age of the passengers on the titanic in our dataset is still 28.0 years old.\n"
     ]
    }
   ],
   "source": [
    "median_age = train_df['Age'].median()\n",
    "print(f'The average age of the passengers on the titanic in our dataset is still {median_age} years old.')"
   ]
  },
  {
   "cell_type": "markdown",
   "id": "68d3b859",
   "metadata": {
    "papermill": {
     "duration": 0.019876,
     "end_time": "2023-07-02T20:58:06.366920",
     "exception": false,
     "start_time": "2023-07-02T20:58:06.347044",
     "status": "completed"
    },
    "tags": []
   },
   "source": [
    "Filling in the Embarked column with the most common embarkment point."
   ]
  },
  {
   "cell_type": "code",
   "execution_count": 10,
   "id": "c91b07ef",
   "metadata": {
    "execution": {
     "iopub.execute_input": "2023-07-02T20:58:06.406179Z",
     "iopub.status.busy": "2023-07-02T20:58:06.405367Z",
     "iopub.status.idle": "2023-07-02T20:58:06.412549Z",
     "shell.execute_reply": "2023-07-02T20:58:06.411560Z"
    },
    "papermill": {
     "duration": 0.029799,
     "end_time": "2023-07-02T20:58:06.415089",
     "exception": false,
     "start_time": "2023-07-02T20:58:06.385290",
     "status": "completed"
    },
    "tags": []
   },
   "outputs": [],
   "source": [
    "embark_most = train_df['Embarked'].mode()\n",
    "train_df['Embarked'] = train_df['Embarked'].fillna('S')\n"
   ]
  },
  {
   "cell_type": "markdown",
   "id": "bf76f921",
   "metadata": {
    "papermill": {
     "duration": 0.017999,
     "end_time": "2023-07-02T20:58:06.451274",
     "exception": false,
     "start_time": "2023-07-02T20:58:06.433275",
     "status": "completed"
    },
    "tags": []
   },
   "source": [
    "Sanity checking that the null values are filled in the Embarked column."
   ]
  },
  {
   "cell_type": "code",
   "execution_count": 11,
   "id": "7cf143cc",
   "metadata": {
    "execution": {
     "iopub.execute_input": "2023-07-02T20:58:06.490479Z",
     "iopub.status.busy": "2023-07-02T20:58:06.489630Z",
     "iopub.status.idle": "2023-07-02T20:58:06.501300Z",
     "shell.execute_reply": "2023-07-02T20:58:06.500170Z"
    },
    "papermill": {
     "duration": 0.034102,
     "end_time": "2023-07-02T20:58:06.503823",
     "exception": false,
     "start_time": "2023-07-02T20:58:06.469721",
     "status": "completed"
    },
    "tags": []
   },
   "outputs": [
    {
     "data": {
      "text/plain": [
       "PassengerId      0\n",
       "Survived         0\n",
       "Pclass           0\n",
       "Name             0\n",
       "Sex              0\n",
       "Age              0\n",
       "SibSp            0\n",
       "Parch            0\n",
       "Ticket           0\n",
       "Fare             0\n",
       "Cabin          687\n",
       "Embarked         0\n",
       "dtype: int64"
      ]
     },
     "execution_count": 11,
     "metadata": {},
     "output_type": "execute_result"
    }
   ],
   "source": [
    "train_df.isna().sum()"
   ]
  },
  {
   "cell_type": "markdown",
   "id": "ee116bce",
   "metadata": {
    "papermill": {
     "duration": 0.018241,
     "end_time": "2023-07-02T20:58:06.540524",
     "exception": false,
     "start_time": "2023-07-02T20:58:06.522283",
     "status": "completed"
    },
    "tags": []
   },
   "source": [
    "Plan for the ML model:\n",
    "*    Change Sex and Embarked with either OHE, Label Encoding, or Ordinal Encoding.\n",
    "*    Drop Name, PassengerID, Cabin, and Ticket Number**"
   ]
  },
  {
   "cell_type": "markdown",
   "id": "0b142fa6",
   "metadata": {
    "papermill": {
     "duration": 0.018357,
     "end_time": "2023-07-02T20:58:06.577294",
     "exception": false,
     "start_time": "2023-07-02T20:58:06.558937",
     "status": "completed"
    },
    "tags": []
   },
   "source": [
    "# EDA/Finding Patterns in the Code"
   ]
  },
  {
   "cell_type": "markdown",
   "id": "cc40a006",
   "metadata": {
    "papermill": {
     "duration": 0.018082,
     "end_time": "2023-07-02T20:58:06.613950",
     "exception": false,
     "start_time": "2023-07-02T20:58:06.595868",
     "status": "completed"
    },
    "tags": []
   },
   "source": [
    "<h3><b>Comparing Survival Rates on the Titanic</b></h3>"
   ]
  },
  {
   "cell_type": "code",
   "execution_count": 12,
   "id": "972f8254",
   "metadata": {
    "execution": {
     "iopub.execute_input": "2023-07-02T20:58:06.654729Z",
     "iopub.status.busy": "2023-07-02T20:58:06.653917Z",
     "iopub.status.idle": "2023-07-02T20:58:07.013507Z",
     "shell.execute_reply": "2023-07-02T20:58:07.012205Z"
    },
    "papermill": {
     "duration": 0.383019,
     "end_time": "2023-07-02T20:58:07.016225",
     "exception": false,
     "start_time": "2023-07-02T20:58:06.633206",
     "status": "completed"
    },
    "tags": []
   },
   "outputs": [
    {
     "data": {
      "text/plain": [
       "Text(0.5, 1.0, 'Survived vs Perished')"
      ]
     },
     "execution_count": 12,
     "metadata": {},
     "output_type": "execute_result"
    },
    {
     "data": {
      "image/png": "[encoded data removed]",
      "text/plain": [
       "<Figure size 640x480 with 1 Axes>"
      ]
     },
     "metadata": {},
     "output_type": "display_data"
    }
   ],
   "source": [
    "ax = sns.countplot(x='Survived', data=train_df, palette='Dark2')\n",
    "ax.bar_label(ax.containers[0])\n",
    "ax.set_title('Survived vs Perished')"
   ]
  },
  {
   "cell_type": "markdown",
   "id": "bf44913c",
   "metadata": {
    "papermill": {
     "duration": 0.018794,
     "end_time": "2023-07-02T20:58:07.054176",
     "exception": false,
     "start_time": "2023-07-02T20:58:07.035382",
     "status": "completed"
    },
    "tags": []
   },
   "source": [
    "<h3><b>Comparing the Survival Rates Between the different genders on the boat</b></h3>"
   ]
  },
  {
   "cell_type": "code",
   "execution_count": 13,
   "id": "f1efb7aa",
   "metadata": {
    "execution": {
     "iopub.execute_input": "2023-07-02T20:58:07.094288Z",
     "iopub.status.busy": "2023-07-02T20:58:07.093860Z",
     "iopub.status.idle": "2023-07-02T20:58:07.439442Z",
     "shell.execute_reply": "2023-07-02T20:58:07.438214Z"
    },
    "papermill": {
     "duration": 0.368842,
     "end_time": "2023-07-02T20:58:07.442103",
     "exception": false,
     "start_time": "2023-07-02T20:58:07.073261",
     "status": "completed"
    },
    "tags": []
   },
   "outputs": [
    {
     "data": {
      "text/plain": [
       "Text(0, 0.5, '# of Passengers')"
      ]
     },
     "execution_count": 13,
     "metadata": {},
     "output_type": "execute_result"
    },
    {
     "data": {
      "image/png": "[encoded data removed]",
      "text/plain": [
       "<Figure size 640x480 with 1 Axes>"
      ]
     },
     "metadata": {},
     "output_type": "display_data"
    }
   ],
   "source": [
    "ax = sns.countplot(x=train_df[\"Sex\"])\n",
    "for label in ax.containers:\n",
    "    ax.bar_label(label)\n",
    "ax.set_title('Number of Males vs Females on the Titanic')\n",
    "ax.set_xlabel('Genders')\n",
    "ax.set_ylabel('# of Passengers')\n"
   ]
  },
  {
   "cell_type": "code",
   "execution_count": 14,
   "id": "38995bfe",
   "metadata": {
    "execution": {
     "iopub.execute_input": "2023-07-02T20:58:07.484019Z",
     "iopub.status.busy": "2023-07-02T20:58:07.483603Z",
     "iopub.status.idle": "2023-07-02T20:58:07.496908Z",
     "shell.execute_reply": "2023-07-02T20:58:07.495561Z"
    },
    "papermill": {
     "duration": 0.037662,
     "end_time": "2023-07-02T20:58:07.499808",
     "exception": false,
     "start_time": "2023-07-02T20:58:07.462146",
     "status": "completed"
    },
    "tags": []
   },
   "outputs": [
    {
     "data": {
      "text/plain": [
       "Survived\n",
       "0     81\n",
       "1    233\n",
       "Name: Sex, dtype: int64"
      ]
     },
     "execution_count": 14,
     "metadata": {},
     "output_type": "execute_result"
    }
   ],
   "source": [
    "females = train_df[train_df['Sex'] == 'female']\n",
    "female_survival = females.groupby('Survived')['Sex'].count()\n",
    "female_survival"
   ]
  },
  {
   "cell_type": "code",
   "execution_count": 15,
   "id": "29a777b8",
   "metadata": {
    "execution": {
     "iopub.execute_input": "2023-07-02T20:58:07.542982Z",
     "iopub.status.busy": "2023-07-02T20:58:07.542528Z",
     "iopub.status.idle": "2023-07-02T20:58:07.554617Z",
     "shell.execute_reply": "2023-07-02T20:58:07.553260Z"
    },
    "papermill": {
     "duration": 0.037072,
     "end_time": "2023-07-02T20:58:07.557184",
     "exception": false,
     "start_time": "2023-07-02T20:58:07.520112",
     "status": "completed"
    },
    "tags": []
   },
   "outputs": [
    {
     "data": {
      "text/plain": [
       "Survived\n",
       "0     81\n",
       "1    233\n",
       "Name: Sex, dtype: int64"
      ]
     },
     "execution_count": 15,
     "metadata": {},
     "output_type": "execute_result"
    }
   ],
   "source": [
    "males = train_df[train_df['Sex'] == 'male']\n",
    "male_survival = females.groupby('Survived')['Sex'].count()\n",
    "male_survival"
   ]
  },
  {
   "cell_type": "markdown",
   "id": "d4049ac1",
   "metadata": {
    "papermill": {
     "duration": 0.019562,
     "end_time": "2023-07-02T20:58:07.597102",
     "exception": false,
     "start_time": "2023-07-02T20:58:07.577540",
     "status": "completed"
    },
    "tags": []
   },
   "source": [
    "Plotting the Survival Rates between Males and Females "
   ]
  },
  {
   "cell_type": "code",
   "execution_count": 16,
   "id": "fa2a228e",
   "metadata": {
    "execution": {
     "iopub.execute_input": "2023-07-02T20:58:07.640443Z",
     "iopub.status.busy": "2023-07-02T20:58:07.639318Z",
     "iopub.status.idle": "2023-07-02T20:58:08.017293Z",
     "shell.execute_reply": "2023-07-02T20:58:08.016132Z"
    },
    "papermill": {
     "duration": 0.401962,
     "end_time": "2023-07-02T20:58:08.020004",
     "exception": false,
     "start_time": "2023-07-02T20:58:07.618042",
     "status": "completed"
    },
    "tags": []
   },
   "outputs": [
    {
     "data": {
      "text/plain": [
       "Text(0, 0.5, '# of Passengers')"
      ]
     },
     "execution_count": 16,
     "metadata": {},
     "output_type": "execute_result"
    },
    {
     "data": {
      "image/png": "[encoded data removed]",
      "text/plain": [
       "<Figure size 640x480 with 1 Axes>"
      ]
     },
     "metadata": {},
     "output_type": "display_data"
    }
   ],
   "source": [
    "ax = sns.countplot(data=train_df, x=\"Sex\", hue=\"Survived\")\n",
    "for label in ax.containers:\n",
    "    ax.bar_label(label)\n",
    "ax.set_title('Survival Rate of Genders')\n",
    "ax.set_xlabel('Genders')\n",
    "ax.set_ylabel('# of Passengers')"
   ]
  },
  {
   "cell_type": "code",
   "execution_count": 17,
   "id": "db1702e4",
   "metadata": {
    "execution": {
     "iopub.execute_input": "2023-07-02T20:58:08.063933Z",
     "iopub.status.busy": "2023-07-02T20:58:08.063516Z",
     "iopub.status.idle": "2023-07-02T20:58:08.082582Z",
     "shell.execute_reply": "2023-07-02T20:58:08.081120Z"
    },
    "papermill": {
     "duration": 0.043899,
     "end_time": "2023-07-02T20:58:08.085211",
     "exception": false,
     "start_time": "2023-07-02T20:58:08.041312",
     "status": "completed"
    },
    "tags": []
   },
   "outputs": [
    {
     "data": {
      "text/html": [
       "<div>\n",
       "<style scoped>\n",
       "    .dataframe tbody tr th:only-of-type {\n",
       "        vertical-align: middle;\n",
       "    }\n",
       "\n",
       "    .dataframe tbody tr th {\n",
       "        vertical-align: top;\n",
       "    }\n",
       "\n",
       "    .dataframe thead th {\n",
       "        text-align: right;\n",
       "    }\n",
       "</style>\n",
       "<table border=\"1\" class=\"dataframe\">\n",
       "  <thead>\n",
       "    <tr style=\"text-align: right;\">\n",
       "      <th></th>\n",
       "      <th>PassengerId</th>\n",
       "      <th>Survived</th>\n",
       "      <th>Pclass</th>\n",
       "      <th>Name</th>\n",
       "      <th>Sex</th>\n",
       "      <th>Age</th>\n",
       "      <th>SibSp</th>\n",
       "      <th>Parch</th>\n",
       "      <th>Ticket</th>\n",
       "      <th>Fare</th>\n",
       "      <th>Cabin</th>\n",
       "      <th>Embarked</th>\n",
       "    </tr>\n",
       "  </thead>\n",
       "  <tbody>\n",
       "    <tr>\n",
       "      <th>0</th>\n",
       "      <td>1</td>\n",
       "      <td>0</td>\n",
       "      <td>3</td>\n",
       "      <td>Braund, Mr. Owen Harris</td>\n",
       "      <td>male</td>\n",
       "      <td>22.0</td>\n",
       "      <td>1</td>\n",
       "      <td>0</td>\n",
       "      <td>A/5 21171</td>\n",
       "      <td>7.2500</td>\n",
       "      <td>NaN</td>\n",
       "      <td>S</td>\n",
       "    </tr>\n",
       "    <tr>\n",
       "      <th>1</th>\n",
       "      <td>2</td>\n",
       "      <td>1</td>\n",
       "      <td>1</td>\n",
       "      <td>Cumings, Mrs. John Bradley (Florence Briggs Th...</td>\n",
       "      <td>female</td>\n",
       "      <td>38.0</td>\n",
       "      <td>1</td>\n",
       "      <td>0</td>\n",
       "      <td>PC 17599</td>\n",
       "      <td>71.2833</td>\n",
       "      <td>C85</td>\n",
       "      <td>C</td>\n",
       "    </tr>\n",
       "    <tr>\n",
       "      <th>2</th>\n",
       "      <td>3</td>\n",
       "      <td>1</td>\n",
       "      <td>3</td>\n",
       "      <td>Heikkinen, Miss. Laina</td>\n",
       "      <td>female</td>\n",
       "      <td>26.0</td>\n",
       "      <td>0</td>\n",
       "      <td>0</td>\n",
       "      <td>STON/O2. 3101282</td>\n",
       "      <td>7.9250</td>\n",
       "      <td>NaN</td>\n",
       "      <td>S</td>\n",
       "    </tr>\n",
       "    <tr>\n",
       "      <th>3</th>\n",
       "      <td>4</td>\n",
       "      <td>1</td>\n",
       "      <td>1</td>\n",
       "      <td>Futrelle, Mrs. Jacques Heath (Lily May Peel)</td>\n",
       "      <td>female</td>\n",
       "      <td>35.0</td>\n",
       "      <td>1</td>\n",
       "      <td>0</td>\n",
       "      <td>113803</td>\n",
       "      <td>53.1000</td>\n",
       "      <td>C123</td>\n",
       "      <td>S</td>\n",
       "    </tr>\n",
       "    <tr>\n",
       "      <th>4</th>\n",
       "      <td>5</td>\n",
       "      <td>0</td>\n",
       "      <td>3</td>\n",
       "      <td>Allen, Mr. William Henry</td>\n",
       "      <td>male</td>\n",
       "      <td>35.0</td>\n",
       "      <td>0</td>\n",
       "      <td>0</td>\n",
       "      <td>373450</td>\n",
       "      <td>8.0500</td>\n",
       "      <td>NaN</td>\n",
       "      <td>S</td>\n",
       "    </tr>\n",
       "  </tbody>\n",
       "</table>\n",
       "</div>"
      ],
      "text/plain": [
       "   PassengerId  Survived  Pclass  \\\n",
       "0            1         0       3   \n",
       "1            2         1       1   \n",
       "2            3         1       3   \n",
       "3            4         1       1   \n",
       "4            5         0       3   \n",
       "\n",
       "                                                Name     Sex   Age  SibSp  \\\n",
       "0                            Braund, Mr. Owen Harris    male  22.0      1   \n",
       "1  Cumings, Mrs. John Bradley (Florence Briggs Th...  female  38.0      1   \n",
       "2                             Heikkinen, Miss. Laina  female  26.0      0   \n",
       "3       Futrelle, Mrs. Jacques Heath (Lily May Peel)  female  35.0      1   \n",
       "4                           Allen, Mr. William Henry    male  35.0      0   \n",
       "\n",
       "   Parch            Ticket     Fare Cabin Embarked  \n",
       "0      0         A/5 21171   7.2500   NaN        S  \n",
       "1      0          PC 17599  71.2833   C85        C  \n",
       "2      0  STON/O2. 3101282   7.9250   NaN        S  \n",
       "3      0            113803  53.1000  C123        S  \n",
       "4      0            373450   8.0500   NaN        S  "
      ]
     },
     "execution_count": 17,
     "metadata": {},
     "output_type": "execute_result"
    }
   ],
   "source": [
    "train_df.head()"
   ]
  },
  {
   "cell_type": "markdown",
   "id": "71909ea4",
   "metadata": {
    "papermill": {
     "duration": 0.021178,
     "end_time": "2023-07-02T20:58:08.127902",
     "exception": false,
     "start_time": "2023-07-02T20:58:08.106724",
     "status": "completed"
    },
    "tags": []
   },
   "source": [
    "Viewing the descrepency between the ticket cost between the different classes"
   ]
  },
  {
   "cell_type": "code",
   "execution_count": 18,
   "id": "ba117f34",
   "metadata": {
    "execution": {
     "iopub.execute_input": "2023-07-02T20:58:08.172482Z",
     "iopub.status.busy": "2023-07-02T20:58:08.171841Z",
     "iopub.status.idle": "2023-07-02T20:58:08.183054Z",
     "shell.execute_reply": "2023-07-02T20:58:08.181831Z"
    },
    "papermill": {
     "duration": 0.036622,
     "end_time": "2023-07-02T20:58:08.185778",
     "exception": false,
     "start_time": "2023-07-02T20:58:08.149156",
     "status": "completed"
    },
    "tags": []
   },
   "outputs": [
    {
     "data": {
      "text/plain": [
       "Pclass\n",
       "1    84.154687\n",
       "2    20.662183\n",
       "3    13.675550\n",
       "Name: Fare, dtype: float64"
      ]
     },
     "execution_count": 18,
     "metadata": {},
     "output_type": "execute_result"
    }
   ],
   "source": [
    "class_fare = train_df.groupby('Pclass')['Fare'].mean()\n",
    "class_fare"
   ]
  },
  {
   "cell_type": "markdown",
   "id": "0724de34",
   "metadata": {
    "papermill": {
     "duration": 0.021854,
     "end_time": "2023-07-02T20:58:08.228952",
     "exception": false,
     "start_time": "2023-07-02T20:58:08.207098",
     "status": "completed"
    },
    "tags": []
   },
   "source": [
    "Converting Class Fare Series to a Dataframe"
   ]
  },
  {
   "cell_type": "code",
   "execution_count": 19,
   "id": "f3c0793a",
   "metadata": {
    "execution": {
     "iopub.execute_input": "2023-07-02T20:58:08.274920Z",
     "iopub.status.busy": "2023-07-02T20:58:08.274204Z",
     "iopub.status.idle": "2023-07-02T20:58:08.287265Z",
     "shell.execute_reply": "2023-07-02T20:58:08.286058Z"
    },
    "papermill": {
     "duration": 0.039158,
     "end_time": "2023-07-02T20:58:08.289986",
     "exception": false,
     "start_time": "2023-07-02T20:58:08.250828",
     "status": "completed"
    },
    "tags": []
   },
   "outputs": [
    {
     "name": "stdout",
     "output_type": "stream",
     "text": [
      "<class 'pandas.core.frame.DataFrame'>\n",
      "RangeIndex: 3 entries, 0 to 2\n",
      "Data columns (total 2 columns):\n",
      " #   Column  Non-Null Count  Dtype  \n",
      "---  ------  --------------  -----  \n",
      " 0   Pclass  3 non-null      int64  \n",
      " 1   Fare    3 non-null      float64\n",
      "dtypes: float64(1), int64(1)\n",
      "memory usage: 176.0 bytes\n"
     ]
    }
   ],
   "source": [
    "class_fare = class_fare.to_frame().reset_index()\n",
    "class_fare.info()"
   ]
  },
  {
   "cell_type": "markdown",
   "id": "a8ba6e32",
   "metadata": {
    "papermill": {
     "duration": 0.020771,
     "end_time": "2023-07-02T20:58:08.331898",
     "exception": false,
     "start_time": "2023-07-02T20:58:08.311127",
     "status": "completed"
    },
    "tags": []
   },
   "source": [
    "Converted mean of class fares to a dataframe"
   ]
  },
  {
   "cell_type": "code",
   "execution_count": 20,
   "id": "65fccb29",
   "metadata": {
    "execution": {
     "iopub.execute_input": "2023-07-02T20:58:08.376318Z",
     "iopub.status.busy": "2023-07-02T20:58:08.375930Z",
     "iopub.status.idle": "2023-07-02T20:58:08.386204Z",
     "shell.execute_reply": "2023-07-02T20:58:08.385080Z"
    },
    "papermill": {
     "duration": 0.035677,
     "end_time": "2023-07-02T20:58:08.388689",
     "exception": false,
     "start_time": "2023-07-02T20:58:08.353012",
     "status": "completed"
    },
    "tags": []
   },
   "outputs": [
    {
     "data": {
      "text/html": [
       "<div>\n",
       "<style scoped>\n",
       "    .dataframe tbody tr th:only-of-type {\n",
       "        vertical-align: middle;\n",
       "    }\n",
       "\n",
       "    .dataframe tbody tr th {\n",
       "        vertical-align: top;\n",
       "    }\n",
       "\n",
       "    .dataframe thead th {\n",
       "        text-align: right;\n",
       "    }\n",
       "</style>\n",
       "<table border=\"1\" class=\"dataframe\">\n",
       "  <thead>\n",
       "    <tr style=\"text-align: right;\">\n",
       "      <th></th>\n",
       "      <th>Pclass</th>\n",
       "      <th>Fare</th>\n",
       "    </tr>\n",
       "  </thead>\n",
       "  <tbody>\n",
       "    <tr>\n",
       "      <th>0</th>\n",
       "      <td>1</td>\n",
       "      <td>84.154687</td>\n",
       "    </tr>\n",
       "    <tr>\n",
       "      <th>1</th>\n",
       "      <td>2</td>\n",
       "      <td>20.662183</td>\n",
       "    </tr>\n",
       "    <tr>\n",
       "      <th>2</th>\n",
       "      <td>3</td>\n",
       "      <td>13.675550</td>\n",
       "    </tr>\n",
       "  </tbody>\n",
       "</table>\n",
       "</div>"
      ],
      "text/plain": [
       "   Pclass       Fare\n",
       "0       1  84.154687\n",
       "1       2  20.662183\n",
       "2       3  13.675550"
      ]
     },
     "execution_count": 20,
     "metadata": {},
     "output_type": "execute_result"
    }
   ],
   "source": [
    "class_fare"
   ]
  },
  {
   "cell_type": "code",
   "execution_count": null,
   "id": "43361bc2",
   "metadata": {
    "papermill": {
     "duration": 0.02103,
     "end_time": "2023-07-02T20:58:08.431131",
     "exception": false,
     "start_time": "2023-07-02T20:58:08.410101",
     "status": "completed"
    },
    "tags": []
   },
   "outputs": [],
   "source": []
  },
  {
   "cell_type": "markdown",
   "id": "788ce89c",
   "metadata": {
    "papermill": {
     "duration": 0.021001,
     "end_time": "2023-07-02T20:58:08.473511",
     "exception": false,
     "start_time": "2023-07-02T20:58:08.452510",
     "status": "completed"
    },
    "tags": []
   },
   "source": [
    "<h3><b>Comparing the Survival Rates Between the different classes on the boat</b></h3>"
   ]
  },
  {
   "cell_type": "markdown",
   "id": "8f8a01c4",
   "metadata": {
    "papermill": {
     "duration": 0.021017,
     "end_time": "2023-07-02T20:58:08.516087",
     "exception": false,
     "start_time": "2023-07-02T20:58:08.495070",
     "status": "completed"
    },
    "tags": []
   },
   "source": [
    "We can see a correlation between the survival rate and the class that the passenger was in. If you were in the 1st class, you had around a 63% chance of survival on the titanic. If you were in the 2nd class of passengers then you had about a 50% chance of survival. Whereas, the 3rd class passengers had a 24% chance of survival. "
   ]
  },
  {
   "cell_type": "code",
   "execution_count": 21,
   "id": "97f248a0",
   "metadata": {
    "execution": {
     "iopub.execute_input": "2023-07-02T20:58:08.561440Z",
     "iopub.status.busy": "2023-07-02T20:58:08.560964Z",
     "iopub.status.idle": "2023-07-02T20:58:08.955889Z",
     "shell.execute_reply": "2023-07-02T20:58:08.954653Z"
    },
    "papermill": {
     "duration": 0.421007,
     "end_time": "2023-07-02T20:58:08.958749",
     "exception": false,
     "start_time": "2023-07-02T20:58:08.537742",
     "status": "completed"
    },
    "tags": []
   },
   "outputs": [
    {
     "data": {
      "image/png": "[encoded data removed]",
      "text/plain": [
       "<Figure size 640x480 with 1 Axes>"
      ]
     },
     "metadata": {},
     "output_type": "display_data"
    }
   ],
   "source": [
    "ax = sns.countplot(data=train_df, x=\"Pclass\", hue=\"Survived\")\n",
    "for label in ax.containers:\n",
    "    ax.bar_label(label)"
   ]
  },
  {
   "cell_type": "code",
   "execution_count": 22,
   "id": "9e5b8fcd",
   "metadata": {
    "execution": {
     "iopub.execute_input": "2023-07-02T20:58:09.005416Z",
     "iopub.status.busy": "2023-07-02T20:58:09.004758Z",
     "iopub.status.idle": "2023-07-02T20:58:09.022871Z",
     "shell.execute_reply": "2023-07-02T20:58:09.021305Z"
    },
    "papermill": {
     "duration": 0.044746,
     "end_time": "2023-07-02T20:58:09.025568",
     "exception": false,
     "start_time": "2023-07-02T20:58:08.980822",
     "status": "completed"
    },
    "tags": []
   },
   "outputs": [
    {
     "data": {
      "text/html": [
       "<div>\n",
       "<style scoped>\n",
       "    .dataframe tbody tr th:only-of-type {\n",
       "        vertical-align: middle;\n",
       "    }\n",
       "\n",
       "    .dataframe tbody tr th {\n",
       "        vertical-align: top;\n",
       "    }\n",
       "\n",
       "    .dataframe thead th {\n",
       "        text-align: right;\n",
       "    }\n",
       "</style>\n",
       "<table border=\"1\" class=\"dataframe\">\n",
       "  <thead>\n",
       "    <tr style=\"text-align: right;\">\n",
       "      <th></th>\n",
       "      <th>PassengerId</th>\n",
       "      <th>Survived</th>\n",
       "      <th>Pclass</th>\n",
       "      <th>Name</th>\n",
       "      <th>Sex</th>\n",
       "      <th>Age</th>\n",
       "      <th>SibSp</th>\n",
       "      <th>Parch</th>\n",
       "      <th>Ticket</th>\n",
       "      <th>Fare</th>\n",
       "      <th>Cabin</th>\n",
       "      <th>Embarked</th>\n",
       "    </tr>\n",
       "  </thead>\n",
       "  <tbody>\n",
       "    <tr>\n",
       "      <th>0</th>\n",
       "      <td>1</td>\n",
       "      <td>0</td>\n",
       "      <td>3</td>\n",
       "      <td>Braund, Mr. Owen Harris</td>\n",
       "      <td>male</td>\n",
       "      <td>22.0</td>\n",
       "      <td>1</td>\n",
       "      <td>0</td>\n",
       "      <td>A/5 21171</td>\n",
       "      <td>7.2500</td>\n",
       "      <td>NaN</td>\n",
       "      <td>S</td>\n",
       "    </tr>\n",
       "    <tr>\n",
       "      <th>1</th>\n",
       "      <td>2</td>\n",
       "      <td>1</td>\n",
       "      <td>1</td>\n",
       "      <td>Cumings, Mrs. John Bradley (Florence Briggs Th...</td>\n",
       "      <td>female</td>\n",
       "      <td>38.0</td>\n",
       "      <td>1</td>\n",
       "      <td>0</td>\n",
       "      <td>PC 17599</td>\n",
       "      <td>71.2833</td>\n",
       "      <td>C85</td>\n",
       "      <td>C</td>\n",
       "    </tr>\n",
       "    <tr>\n",
       "      <th>2</th>\n",
       "      <td>3</td>\n",
       "      <td>1</td>\n",
       "      <td>3</td>\n",
       "      <td>Heikkinen, Miss. Laina</td>\n",
       "      <td>female</td>\n",
       "      <td>26.0</td>\n",
       "      <td>0</td>\n",
       "      <td>0</td>\n",
       "      <td>STON/O2. 3101282</td>\n",
       "      <td>7.9250</td>\n",
       "      <td>NaN</td>\n",
       "      <td>S</td>\n",
       "    </tr>\n",
       "    <tr>\n",
       "      <th>3</th>\n",
       "      <td>4</td>\n",
       "      <td>1</td>\n",
       "      <td>1</td>\n",
       "      <td>Futrelle, Mrs. Jacques Heath (Lily May Peel)</td>\n",
       "      <td>female</td>\n",
       "      <td>35.0</td>\n",
       "      <td>1</td>\n",
       "      <td>0</td>\n",
       "      <td>113803</td>\n",
       "      <td>53.1000</td>\n",
       "      <td>C123</td>\n",
       "      <td>S</td>\n",
       "    </tr>\n",
       "    <tr>\n",
       "      <th>4</th>\n",
       "      <td>5</td>\n",
       "      <td>0</td>\n",
       "      <td>3</td>\n",
       "      <td>Allen, Mr. William Henry</td>\n",
       "      <td>male</td>\n",
       "      <td>35.0</td>\n",
       "      <td>0</td>\n",
       "      <td>0</td>\n",
       "      <td>373450</td>\n",
       "      <td>8.0500</td>\n",
       "      <td>NaN</td>\n",
       "      <td>S</td>\n",
       "    </tr>\n",
       "  </tbody>\n",
       "</table>\n",
       "</div>"
      ],
      "text/plain": [
       "   PassengerId  Survived  Pclass  \\\n",
       "0            1         0       3   \n",
       "1            2         1       1   \n",
       "2            3         1       3   \n",
       "3            4         1       1   \n",
       "4            5         0       3   \n",
       "\n",
       "                                                Name     Sex   Age  SibSp  \\\n",
       "0                            Braund, Mr. Owen Harris    male  22.0      1   \n",
       "1  Cumings, Mrs. John Bradley (Florence Briggs Th...  female  38.0      1   \n",
       "2                             Heikkinen, Miss. Laina  female  26.0      0   \n",
       "3       Futrelle, Mrs. Jacques Heath (Lily May Peel)  female  35.0      1   \n",
       "4                           Allen, Mr. William Henry    male  35.0      0   \n",
       "\n",
       "   Parch            Ticket     Fare Cabin Embarked  \n",
       "0      0         A/5 21171   7.2500   NaN        S  \n",
       "1      0          PC 17599  71.2833   C85        C  \n",
       "2      0  STON/O2. 3101282   7.9250   NaN        S  \n",
       "3      0            113803  53.1000  C123        S  \n",
       "4      0            373450   8.0500   NaN        S  "
      ]
     },
     "execution_count": 22,
     "metadata": {},
     "output_type": "execute_result"
    }
   ],
   "source": [
    "train_df.head()"
   ]
  },
  {
   "cell_type": "code",
   "execution_count": 23,
   "id": "62b1dcdf",
   "metadata": {
    "execution": {
     "iopub.execute_input": "2023-07-02T20:58:09.072520Z",
     "iopub.status.busy": "2023-07-02T20:58:09.071899Z",
     "iopub.status.idle": "2023-07-02T20:58:09.099037Z",
     "shell.execute_reply": "2023-07-02T20:58:09.097922Z"
    },
    "papermill": {
     "duration": 0.053865,
     "end_time": "2023-07-02T20:58:09.101840",
     "exception": false,
     "start_time": "2023-07-02T20:58:09.047975",
     "status": "completed"
    },
    "tags": []
   },
   "outputs": [
    {
     "data": {
      "text/html": [
       "<div>\n",
       "<style scoped>\n",
       "    .dataframe tbody tr th:only-of-type {\n",
       "        vertical-align: middle;\n",
       "    }\n",
       "\n",
       "    .dataframe tbody tr th {\n",
       "        vertical-align: top;\n",
       "    }\n",
       "\n",
       "    .dataframe thead th {\n",
       "        text-align: right;\n",
       "    }\n",
       "</style>\n",
       "<table border=\"1\" class=\"dataframe\">\n",
       "  <thead>\n",
       "    <tr style=\"text-align: right;\">\n",
       "      <th></th>\n",
       "      <th>PassengerId</th>\n",
       "      <th>Survived</th>\n",
       "      <th>Pclass</th>\n",
       "      <th>Name</th>\n",
       "      <th>Age</th>\n",
       "      <th>SibSp</th>\n",
       "      <th>Parch</th>\n",
       "      <th>Ticket</th>\n",
       "      <th>Fare</th>\n",
       "      <th>Cabin</th>\n",
       "      <th>Embarked_C</th>\n",
       "      <th>Embarked_Q</th>\n",
       "      <th>Embarked_S</th>\n",
       "      <th>Sex_female</th>\n",
       "      <th>Sex_male</th>\n",
       "    </tr>\n",
       "  </thead>\n",
       "  <tbody>\n",
       "    <tr>\n",
       "      <th>0</th>\n",
       "      <td>1</td>\n",
       "      <td>0</td>\n",
       "      <td>3</td>\n",
       "      <td>Braund, Mr. Owen Harris</td>\n",
       "      <td>22.0</td>\n",
       "      <td>1</td>\n",
       "      <td>0</td>\n",
       "      <td>A/5 21171</td>\n",
       "      <td>7.2500</td>\n",
       "      <td>NaN</td>\n",
       "      <td>0</td>\n",
       "      <td>0</td>\n",
       "      <td>1</td>\n",
       "      <td>0</td>\n",
       "      <td>1</td>\n",
       "    </tr>\n",
       "    <tr>\n",
       "      <th>1</th>\n",
       "      <td>2</td>\n",
       "      <td>1</td>\n",
       "      <td>1</td>\n",
       "      <td>Cumings, Mrs. John Bradley (Florence Briggs Th...</td>\n",
       "      <td>38.0</td>\n",
       "      <td>1</td>\n",
       "      <td>0</td>\n",
       "      <td>PC 17599</td>\n",
       "      <td>71.2833</td>\n",
       "      <td>C85</td>\n",
       "      <td>1</td>\n",
       "      <td>0</td>\n",
       "      <td>0</td>\n",
       "      <td>1</td>\n",
       "      <td>0</td>\n",
       "    </tr>\n",
       "    <tr>\n",
       "      <th>2</th>\n",
       "      <td>3</td>\n",
       "      <td>1</td>\n",
       "      <td>3</td>\n",
       "      <td>Heikkinen, Miss. Laina</td>\n",
       "      <td>26.0</td>\n",
       "      <td>0</td>\n",
       "      <td>0</td>\n",
       "      <td>STON/O2. 3101282</td>\n",
       "      <td>7.9250</td>\n",
       "      <td>NaN</td>\n",
       "      <td>0</td>\n",
       "      <td>0</td>\n",
       "      <td>1</td>\n",
       "      <td>1</td>\n",
       "      <td>0</td>\n",
       "    </tr>\n",
       "    <tr>\n",
       "      <th>3</th>\n",
       "      <td>4</td>\n",
       "      <td>1</td>\n",
       "      <td>1</td>\n",
       "      <td>Futrelle, Mrs. Jacques Heath (Lily May Peel)</td>\n",
       "      <td>35.0</td>\n",
       "      <td>1</td>\n",
       "      <td>0</td>\n",
       "      <td>113803</td>\n",
       "      <td>53.1000</td>\n",
       "      <td>C123</td>\n",
       "      <td>0</td>\n",
       "      <td>0</td>\n",
       "      <td>1</td>\n",
       "      <td>1</td>\n",
       "      <td>0</td>\n",
       "    </tr>\n",
       "    <tr>\n",
       "      <th>4</th>\n",
       "      <td>5</td>\n",
       "      <td>0</td>\n",
       "      <td>3</td>\n",
       "      <td>Allen, Mr. William Henry</td>\n",
       "      <td>35.0</td>\n",
       "      <td>0</td>\n",
       "      <td>0</td>\n",
       "      <td>373450</td>\n",
       "      <td>8.0500</td>\n",
       "      <td>NaN</td>\n",
       "      <td>0</td>\n",
       "      <td>0</td>\n",
       "      <td>1</td>\n",
       "      <td>0</td>\n",
       "      <td>1</td>\n",
       "    </tr>\n",
       "  </tbody>\n",
       "</table>\n",
       "</div>"
      ],
      "text/plain": [
       "   PassengerId  Survived  Pclass  \\\n",
       "0            1         0       3   \n",
       "1            2         1       1   \n",
       "2            3         1       3   \n",
       "3            4         1       1   \n",
       "4            5         0       3   \n",
       "\n",
       "                                                Name   Age  SibSp  Parch  \\\n",
       "0                            Braund, Mr. Owen Harris  22.0      1      0   \n",
       "1  Cumings, Mrs. John Bradley (Florence Briggs Th...  38.0      1      0   \n",
       "2                             Heikkinen, Miss. Laina  26.0      0      0   \n",
       "3       Futrelle, Mrs. Jacques Heath (Lily May Peel)  35.0      1      0   \n",
       "4                           Allen, Mr. William Henry  35.0      0      0   \n",
       "\n",
       "             Ticket     Fare Cabin  Embarked_C  Embarked_Q  Embarked_S  \\\n",
       "0         A/5 21171   7.2500   NaN           0           0           1   \n",
       "1          PC 17599  71.2833   C85           1           0           0   \n",
       "2  STON/O2. 3101282   7.9250   NaN           0           0           1   \n",
       "3            113803  53.1000  C123           0           0           1   \n",
       "4            373450   8.0500   NaN           0           0           1   \n",
       "\n",
       "   Sex_female  Sex_male  \n",
       "0           0         1  \n",
       "1           1         0  \n",
       "2           1         0  \n",
       "3           1         0  \n",
       "4           0         1  "
      ]
     },
     "execution_count": 23,
     "metadata": {},
     "output_type": "execute_result"
    }
   ],
   "source": [
    "data_encoded = pd.get_dummies(train_df, columns = ['Embarked', 'Sex'])\n",
    "data_encoded.head()"
   ]
  },
  {
   "cell_type": "code",
   "execution_count": 24,
   "id": "5b7d7b67",
   "metadata": {
    "execution": {
     "iopub.execute_input": "2023-07-02T20:58:09.148776Z",
     "iopub.status.busy": "2023-07-02T20:58:09.148367Z",
     "iopub.status.idle": "2023-07-02T20:58:09.174120Z",
     "shell.execute_reply": "2023-07-02T20:58:09.173217Z"
    },
    "papermill": {
     "duration": 0.052094,
     "end_time": "2023-07-02T20:58:09.176526",
     "exception": false,
     "start_time": "2023-07-02T20:58:09.124432",
     "status": "completed"
    },
    "tags": []
   },
   "outputs": [
    {
     "data": {
      "text/html": [
       "<div>\n",
       "<style scoped>\n",
       "    .dataframe tbody tr th:only-of-type {\n",
       "        vertical-align: middle;\n",
       "    }\n",
       "\n",
       "    .dataframe tbody tr th {\n",
       "        vertical-align: top;\n",
       "    }\n",
       "\n",
       "    .dataframe thead th {\n",
       "        text-align: right;\n",
       "    }\n",
       "</style>\n",
       "<table border=\"1\" class=\"dataframe\">\n",
       "  <thead>\n",
       "    <tr style=\"text-align: right;\">\n",
       "      <th></th>\n",
       "      <th>PassengerId</th>\n",
       "      <th>Pclass</th>\n",
       "      <th>Name</th>\n",
       "      <th>Age</th>\n",
       "      <th>SibSp</th>\n",
       "      <th>Parch</th>\n",
       "      <th>Ticket</th>\n",
       "      <th>Fare</th>\n",
       "      <th>Cabin</th>\n",
       "      <th>Embarked_C</th>\n",
       "      <th>Embarked_Q</th>\n",
       "      <th>Embarked_S</th>\n",
       "      <th>Sex_female</th>\n",
       "      <th>Sex_male</th>\n",
       "    </tr>\n",
       "  </thead>\n",
       "  <tbody>\n",
       "    <tr>\n",
       "      <th>0</th>\n",
       "      <td>892</td>\n",
       "      <td>3</td>\n",
       "      <td>Kelly, Mr. James</td>\n",
       "      <td>34.5</td>\n",
       "      <td>0</td>\n",
       "      <td>0</td>\n",
       "      <td>330911</td>\n",
       "      <td>7.8292</td>\n",
       "      <td>NaN</td>\n",
       "      <td>0</td>\n",
       "      <td>1</td>\n",
       "      <td>0</td>\n",
       "      <td>0</td>\n",
       "      <td>1</td>\n",
       "    </tr>\n",
       "    <tr>\n",
       "      <th>1</th>\n",
       "      <td>893</td>\n",
       "      <td>3</td>\n",
       "      <td>Wilkes, Mrs. James (Ellen Needs)</td>\n",
       "      <td>47.0</td>\n",
       "      <td>1</td>\n",
       "      <td>0</td>\n",
       "      <td>363272</td>\n",
       "      <td>7.0000</td>\n",
       "      <td>NaN</td>\n",
       "      <td>0</td>\n",
       "      <td>0</td>\n",
       "      <td>1</td>\n",
       "      <td>1</td>\n",
       "      <td>0</td>\n",
       "    </tr>\n",
       "    <tr>\n",
       "      <th>2</th>\n",
       "      <td>894</td>\n",
       "      <td>2</td>\n",
       "      <td>Myles, Mr. Thomas Francis</td>\n",
       "      <td>62.0</td>\n",
       "      <td>0</td>\n",
       "      <td>0</td>\n",
       "      <td>240276</td>\n",
       "      <td>9.6875</td>\n",
       "      <td>NaN</td>\n",
       "      <td>0</td>\n",
       "      <td>1</td>\n",
       "      <td>0</td>\n",
       "      <td>0</td>\n",
       "      <td>1</td>\n",
       "    </tr>\n",
       "    <tr>\n",
       "      <th>3</th>\n",
       "      <td>895</td>\n",
       "      <td>3</td>\n",
       "      <td>Wirz, Mr. Albert</td>\n",
       "      <td>27.0</td>\n",
       "      <td>0</td>\n",
       "      <td>0</td>\n",
       "      <td>315154</td>\n",
       "      <td>8.6625</td>\n",
       "      <td>NaN</td>\n",
       "      <td>0</td>\n",
       "      <td>0</td>\n",
       "      <td>1</td>\n",
       "      <td>0</td>\n",
       "      <td>1</td>\n",
       "    </tr>\n",
       "    <tr>\n",
       "      <th>4</th>\n",
       "      <td>896</td>\n",
       "      <td>3</td>\n",
       "      <td>Hirvonen, Mrs. Alexander (Helga E Lindqvist)</td>\n",
       "      <td>22.0</td>\n",
       "      <td>1</td>\n",
       "      <td>1</td>\n",
       "      <td>3101298</td>\n",
       "      <td>12.2875</td>\n",
       "      <td>NaN</td>\n",
       "      <td>0</td>\n",
       "      <td>0</td>\n",
       "      <td>1</td>\n",
       "      <td>1</td>\n",
       "      <td>0</td>\n",
       "    </tr>\n",
       "  </tbody>\n",
       "</table>\n",
       "</div>"
      ],
      "text/plain": [
       "   PassengerId  Pclass                                          Name   Age  \\\n",
       "0          892       3                              Kelly, Mr. James  34.5   \n",
       "1          893       3              Wilkes, Mrs. James (Ellen Needs)  47.0   \n",
       "2          894       2                     Myles, Mr. Thomas Francis  62.0   \n",
       "3          895       3                              Wirz, Mr. Albert  27.0   \n",
       "4          896       3  Hirvonen, Mrs. Alexander (Helga E Lindqvist)  22.0   \n",
       "\n",
       "   SibSp  Parch   Ticket     Fare Cabin  Embarked_C  Embarked_Q  Embarked_S  \\\n",
       "0      0      0   330911   7.8292   NaN           0           1           0   \n",
       "1      1      0   363272   7.0000   NaN           0           0           1   \n",
       "2      0      0   240276   9.6875   NaN           0           1           0   \n",
       "3      0      0   315154   8.6625   NaN           0           0           1   \n",
       "4      1      1  3101298  12.2875   NaN           0           0           1   \n",
       "\n",
       "   Sex_female  Sex_male  \n",
       "0           0         1  \n",
       "1           1         0  \n",
       "2           0         1  \n",
       "3           0         1  \n",
       "4           1         0  "
      ]
     },
     "execution_count": 24,
     "metadata": {},
     "output_type": "execute_result"
    }
   ],
   "source": [
    "test_df_encoded = pd.get_dummies(test_df, columns = ['Embarked', 'Sex'])\n",
    "test_df_encoded.head()"
   ]
  },
  {
   "cell_type": "markdown",
   "id": "c527e330",
   "metadata": {
    "papermill": {
     "duration": 0.022525,
     "end_time": "2023-07-02T20:58:09.221938",
     "exception": false,
     "start_time": "2023-07-02T20:58:09.199413",
     "status": "completed"
    },
    "tags": []
   },
   "source": [
    "Looking at the correlations between the different features"
   ]
  },
  {
   "cell_type": "code",
   "execution_count": 25,
   "id": "ef1ecb40",
   "metadata": {
    "execution": {
     "iopub.execute_input": "2023-07-02T20:58:09.269702Z",
     "iopub.status.busy": "2023-07-02T20:58:09.269263Z",
     "iopub.status.idle": "2023-07-02T20:58:09.295963Z",
     "shell.execute_reply": "2023-07-02T20:58:09.294573Z"
    },
    "papermill": {
     "duration": 0.053395,
     "end_time": "2023-07-02T20:58:09.298237",
     "exception": false,
     "start_time": "2023-07-02T20:58:09.244842",
     "status": "completed"
    },
    "tags": []
   },
   "outputs": [
    {
     "name": "stderr",
     "output_type": "stream",
     "text": [
      "/tmp/ipykernel_21/4068359255.py:1: FutureWarning: The default value of numeric_only in DataFrame.corr is deprecated. In a future version, it will default to False. Select only valid columns or specify the value of numeric_only to silence this warning.\n",
      "  data_encoded.corr()\n"
     ]
    },
    {
     "data": {
      "text/html": [
       "<div>\n",
       "<style scoped>\n",
       "    .dataframe tbody tr th:only-of-type {\n",
       "        vertical-align: middle;\n",
       "    }\n",
       "\n",
       "    .dataframe tbody tr th {\n",
       "        vertical-align: top;\n",
       "    }\n",
       "\n",
       "    .dataframe thead th {\n",
       "        text-align: right;\n",
       "    }\n",
       "</style>\n",
       "<table border=\"1\" class=\"dataframe\">\n",
       "  <thead>\n",
       "    <tr style=\"text-align: right;\">\n",
       "      <th></th>\n",
       "      <th>PassengerId</th>\n",
       "      <th>Survived</th>\n",
       "      <th>Pclass</th>\n",
       "      <th>Age</th>\n",
       "      <th>SibSp</th>\n",
       "      <th>Parch</th>\n",
       "      <th>Fare</th>\n",
       "      <th>Embarked_C</th>\n",
       "      <th>Embarked_Q</th>\n",
       "      <th>Embarked_S</th>\n",
       "      <th>Sex_female</th>\n",
       "      <th>Sex_male</th>\n",
       "    </tr>\n",
       "  </thead>\n",
       "  <tbody>\n",
       "    <tr>\n",
       "      <th>PassengerId</th>\n",
       "      <td>1.000000</td>\n",
       "      <td>-0.005007</td>\n",
       "      <td>-0.035144</td>\n",
       "      <td>0.034212</td>\n",
       "      <td>-0.057527</td>\n",
       "      <td>-0.001652</td>\n",
       "      <td>0.012658</td>\n",
       "      <td>-0.001205</td>\n",
       "      <td>-0.033606</td>\n",
       "      <td>0.022204</td>\n",
       "      <td>-0.042939</td>\n",
       "      <td>0.042939</td>\n",
       "    </tr>\n",
       "    <tr>\n",
       "      <th>Survived</th>\n",
       "      <td>-0.005007</td>\n",
       "      <td>1.000000</td>\n",
       "      <td>-0.338481</td>\n",
       "      <td>-0.064910</td>\n",
       "      <td>-0.035322</td>\n",
       "      <td>0.081629</td>\n",
       "      <td>0.257307</td>\n",
       "      <td>0.168240</td>\n",
       "      <td>0.003650</td>\n",
       "      <td>-0.149683</td>\n",
       "      <td>0.543351</td>\n",
       "      <td>-0.543351</td>\n",
       "    </tr>\n",
       "    <tr>\n",
       "      <th>Pclass</th>\n",
       "      <td>-0.035144</td>\n",
       "      <td>-0.338481</td>\n",
       "      <td>1.000000</td>\n",
       "      <td>-0.339898</td>\n",
       "      <td>0.083081</td>\n",
       "      <td>0.018443</td>\n",
       "      <td>-0.549500</td>\n",
       "      <td>-0.243292</td>\n",
       "      <td>0.221009</td>\n",
       "      <td>0.074053</td>\n",
       "      <td>-0.131900</td>\n",
       "      <td>0.131900</td>\n",
       "    </tr>\n",
       "    <tr>\n",
       "      <th>Age</th>\n",
       "      <td>0.034212</td>\n",
       "      <td>-0.064910</td>\n",
       "      <td>-0.339898</td>\n",
       "      <td>1.000000</td>\n",
       "      <td>-0.233296</td>\n",
       "      <td>-0.172482</td>\n",
       "      <td>0.096688</td>\n",
       "      <td>0.030248</td>\n",
       "      <td>-0.031415</td>\n",
       "      <td>-0.006729</td>\n",
       "      <td>-0.081163</td>\n",
       "      <td>0.081163</td>\n",
       "    </tr>\n",
       "    <tr>\n",
       "      <th>SibSp</th>\n",
       "      <td>-0.057527</td>\n",
       "      <td>-0.035322</td>\n",
       "      <td>0.083081</td>\n",
       "      <td>-0.233296</td>\n",
       "      <td>1.000000</td>\n",
       "      <td>0.414838</td>\n",
       "      <td>0.159651</td>\n",
       "      <td>-0.059528</td>\n",
       "      <td>-0.026354</td>\n",
       "      <td>0.068734</td>\n",
       "      <td>0.114631</td>\n",
       "      <td>-0.114631</td>\n",
       "    </tr>\n",
       "    <tr>\n",
       "      <th>Parch</th>\n",
       "      <td>-0.001652</td>\n",
       "      <td>0.081629</td>\n",
       "      <td>0.018443</td>\n",
       "      <td>-0.172482</td>\n",
       "      <td>0.414838</td>\n",
       "      <td>1.000000</td>\n",
       "      <td>0.216225</td>\n",
       "      <td>-0.011069</td>\n",
       "      <td>-0.081228</td>\n",
       "      <td>0.060814</td>\n",
       "      <td>0.245489</td>\n",
       "      <td>-0.245489</td>\n",
       "    </tr>\n",
       "    <tr>\n",
       "      <th>Fare</th>\n",
       "      <td>0.012658</td>\n",
       "      <td>0.257307</td>\n",
       "      <td>-0.549500</td>\n",
       "      <td>0.096688</td>\n",
       "      <td>0.159651</td>\n",
       "      <td>0.216225</td>\n",
       "      <td>1.000000</td>\n",
       "      <td>0.269335</td>\n",
       "      <td>-0.117216</td>\n",
       "      <td>-0.162184</td>\n",
       "      <td>0.182333</td>\n",
       "      <td>-0.182333</td>\n",
       "    </tr>\n",
       "    <tr>\n",
       "      <th>Embarked_C</th>\n",
       "      <td>-0.001205</td>\n",
       "      <td>0.168240</td>\n",
       "      <td>-0.243292</td>\n",
       "      <td>0.030248</td>\n",
       "      <td>-0.059528</td>\n",
       "      <td>-0.011069</td>\n",
       "      <td>0.269335</td>\n",
       "      <td>1.000000</td>\n",
       "      <td>-0.148258</td>\n",
       "      <td>-0.782742</td>\n",
       "      <td>0.082853</td>\n",
       "      <td>-0.082853</td>\n",
       "    </tr>\n",
       "    <tr>\n",
       "      <th>Embarked_Q</th>\n",
       "      <td>-0.033606</td>\n",
       "      <td>0.003650</td>\n",
       "      <td>0.221009</td>\n",
       "      <td>-0.031415</td>\n",
       "      <td>-0.026354</td>\n",
       "      <td>-0.081228</td>\n",
       "      <td>-0.117216</td>\n",
       "      <td>-0.148258</td>\n",
       "      <td>1.000000</td>\n",
       "      <td>-0.499421</td>\n",
       "      <td>0.074115</td>\n",
       "      <td>-0.074115</td>\n",
       "    </tr>\n",
       "    <tr>\n",
       "      <th>Embarked_S</th>\n",
       "      <td>0.022204</td>\n",
       "      <td>-0.149683</td>\n",
       "      <td>0.074053</td>\n",
       "      <td>-0.006729</td>\n",
       "      <td>0.068734</td>\n",
       "      <td>0.060814</td>\n",
       "      <td>-0.162184</td>\n",
       "      <td>-0.782742</td>\n",
       "      <td>-0.499421</td>\n",
       "      <td>1.000000</td>\n",
       "      <td>-0.119224</td>\n",
       "      <td>0.119224</td>\n",
       "    </tr>\n",
       "    <tr>\n",
       "      <th>Sex_female</th>\n",
       "      <td>-0.042939</td>\n",
       "      <td>0.543351</td>\n",
       "      <td>-0.131900</td>\n",
       "      <td>-0.081163</td>\n",
       "      <td>0.114631</td>\n",
       "      <td>0.245489</td>\n",
       "      <td>0.182333</td>\n",
       "      <td>0.082853</td>\n",
       "      <td>0.074115</td>\n",
       "      <td>-0.119224</td>\n",
       "      <td>1.000000</td>\n",
       "      <td>-1.000000</td>\n",
       "    </tr>\n",
       "    <tr>\n",
       "      <th>Sex_male</th>\n",
       "      <td>0.042939</td>\n",
       "      <td>-0.543351</td>\n",
       "      <td>0.131900</td>\n",
       "      <td>0.081163</td>\n",
       "      <td>-0.114631</td>\n",
       "      <td>-0.245489</td>\n",
       "      <td>-0.182333</td>\n",
       "      <td>-0.082853</td>\n",
       "      <td>-0.074115</td>\n",
       "      <td>0.119224</td>\n",
       "      <td>-1.000000</td>\n",
       "      <td>1.000000</td>\n",
       "    </tr>\n",
       "  </tbody>\n",
       "</table>\n",
       "</div>"
      ],
      "text/plain": [
       "             PassengerId  Survived    Pclass       Age     SibSp     Parch  \\\n",
       "PassengerId     1.000000 -0.005007 -0.035144  0.034212 -0.057527 -0.001652   \n",
       "Survived       -0.005007  1.000000 -0.338481 -0.064910 -0.035322  0.081629   \n",
       "Pclass         -0.035144 -0.338481  1.000000 -0.339898  0.083081  0.018443   \n",
       "Age             0.034212 -0.064910 -0.339898  1.000000 -0.233296 -0.172482   \n",
       "SibSp          -0.057527 -0.035322  0.083081 -0.233296  1.000000  0.414838   \n",
       "Parch          -0.001652  0.081629  0.018443 -0.172482  0.414838  1.000000   \n",
       "Fare            0.012658  0.257307 -0.549500  0.096688  0.159651  0.216225   \n",
       "Embarked_C     -0.001205  0.168240 -0.243292  0.030248 -0.059528 -0.011069   \n",
       "Embarked_Q     -0.033606  0.003650  0.221009 -0.031415 -0.026354 -0.081228   \n",
       "Embarked_S      0.022204 -0.149683  0.074053 -0.006729  0.068734  0.060814   \n",
       "Sex_female     -0.042939  0.543351 -0.131900 -0.081163  0.114631  0.245489   \n",
       "Sex_male        0.042939 -0.543351  0.131900  0.081163 -0.114631 -0.245489   \n",
       "\n",
       "                 Fare  Embarked_C  Embarked_Q  Embarked_S  Sex_female  \\\n",
       "PassengerId  0.012658   -0.001205   -0.033606    0.022204   -0.042939   \n",
       "Survived     0.257307    0.168240    0.003650   -0.149683    0.543351   \n",
       "Pclass      -0.549500   -0.243292    0.221009    0.074053   -0.131900   \n",
       "Age          0.096688    0.030248   -0.031415   -0.006729   -0.081163   \n",
       "SibSp        0.159651   -0.059528   -0.026354    0.068734    0.114631   \n",
       "Parch        0.216225   -0.011069   -0.081228    0.060814    0.245489   \n",
       "Fare         1.000000    0.269335   -0.117216   -0.162184    0.182333   \n",
       "Embarked_C   0.269335    1.000000   -0.148258   -0.782742    0.082853   \n",
       "Embarked_Q  -0.117216   -0.148258    1.000000   -0.499421    0.074115   \n",
       "Embarked_S  -0.162184   -0.782742   -0.499421    1.000000   -0.119224   \n",
       "Sex_female   0.182333    0.082853    0.074115   -0.119224    1.000000   \n",
       "Sex_male    -0.182333   -0.082853   -0.074115    0.119224   -1.000000   \n",
       "\n",
       "             Sex_male  \n",
       "PassengerId  0.042939  \n",
       "Survived    -0.543351  \n",
       "Pclass       0.131900  \n",
       "Age          0.081163  \n",
       "SibSp       -0.114631  \n",
       "Parch       -0.245489  \n",
       "Fare        -0.182333  \n",
       "Embarked_C  -0.082853  \n",
       "Embarked_Q  -0.074115  \n",
       "Embarked_S   0.119224  \n",
       "Sex_female  -1.000000  \n",
       "Sex_male     1.000000  "
      ]
     },
     "execution_count": 25,
     "metadata": {},
     "output_type": "execute_result"
    }
   ],
   "source": [
    "data_encoded.corr()"
   ]
  },
  {
   "cell_type": "markdown",
   "id": "07fc25e3",
   "metadata": {
    "papermill": {
     "duration": 0.023393,
     "end_time": "2023-07-02T20:58:09.345588",
     "exception": false,
     "start_time": "2023-07-02T20:58:09.322195",
     "status": "completed"
    },
    "tags": []
   },
   "source": [
    "Created a correlation heatmap of our features in the dataframe. We can see that there is a high correlation between the female category and survival and a high negative correlation between being male and survival. The second highest correlation is between fare and survival. This outcome is logical and agrees with our views on the dataset above. "
   ]
  },
  {
   "cell_type": "code",
   "execution_count": 26,
   "id": "4dae85af",
   "metadata": {
    "execution": {
     "iopub.execute_input": "2023-07-02T20:58:09.395708Z",
     "iopub.status.busy": "2023-07-02T20:58:09.395272Z",
     "iopub.status.idle": "2023-07-02T20:58:10.411835Z",
     "shell.execute_reply": "2023-07-02T20:58:10.410960Z"
    },
    "papermill": {
     "duration": 1.045301,
     "end_time": "2023-07-02T20:58:10.414649",
     "exception": false,
     "start_time": "2023-07-02T20:58:09.369348",
     "status": "completed"
    },
    "tags": []
   },
   "outputs": [
    {
     "name": "stderr",
     "output_type": "stream",
     "text": [
      "/tmp/ipykernel_21/1038233978.py:3: FutureWarning: The default value of numeric_only in DataFrame.corr is deprecated. In a future version, it will default to False. Select only valid columns or specify the value of numeric_only to silence this warning.\n",
      "  mask = np.triu(np.ones_like(data_encoded.corr(), dtype=np.bool))\n",
      "/tmp/ipykernel_21/1038233978.py:3: DeprecationWarning: `np.bool` is a deprecated alias for the builtin `bool`. To silence this warning, use `bool` by itself. Doing this will not modify any behavior and is safe. If you specifically wanted the numpy scalar type, use `np.bool_` here.\n",
      "Deprecated in NumPy 1.20; for more details and guidance: https://numpy.org/devdocs/release/1.20.0-notes.html#deprecations\n",
      "  mask = np.triu(np.ones_like(data_encoded.corr(), dtype=np.bool))\n",
      "/tmp/ipykernel_21/1038233978.py:4: FutureWarning: The default value of numeric_only in DataFrame.corr is deprecated. In a future version, it will default to False. Select only valid columns or specify the value of numeric_only to silence this warning.\n",
      "  heatmap = sns.heatmap(data_encoded.corr(), mask=mask, vmin=-1, vmax=1, annot=True, cmap='BrBG')\n"
     ]
    },
    {
     "data": {
      "image/png": "[encoded data removed]",
      "text/plain": [
       "<Figure size 1600x600 with 2 Axes>"
      ]
     },
     "metadata": {},
     "output_type": "display_data"
    }
   ],
   "source": [
    "plt.figure(figsize=(16, 6))\n",
    "# define the mask to set the values in the upper triangle to True\n",
    "mask = np.triu(np.ones_like(data_encoded.corr(), dtype=np.bool))\n",
    "heatmap = sns.heatmap(data_encoded.corr(), mask=mask, vmin=-1, vmax=1, annot=True, cmap='BrBG')\n",
    "heatmap.set_title('Triangle Correlation Heatmap', fontdict={'fontsize':18}, pad=16);"
   ]
  },
  {
   "cell_type": "markdown",
   "id": "5a127db3",
   "metadata": {
    "papermill": {
     "duration": 0.025361,
     "end_time": "2023-07-02T20:58:10.466411",
     "exception": false,
     "start_time": "2023-07-02T20:58:10.441050",
     "status": "completed"
    },
    "tags": []
   },
   "source": [
    "Further exploring the correlation between the features of the dataframe and the target of the dataframe. We can see that age, passenger id, sibling status, and embarked had a very low correlation to the survival rate. Whereas, female vs male, and the differences in the fares, and the class that you were in had a more significant correlation to the survival rate."
   ]
  },
  {
   "cell_type": "code",
   "execution_count": 27,
   "id": "414d803e",
   "metadata": {
    "execution": {
     "iopub.execute_input": "2023-07-02T20:58:10.519154Z",
     "iopub.status.busy": "2023-07-02T20:58:10.518695Z",
     "iopub.status.idle": "2023-07-02T20:58:10.981688Z",
     "shell.execute_reply": "2023-07-02T20:58:10.980519Z"
    },
    "papermill": {
     "duration": 0.492708,
     "end_time": "2023-07-02T20:58:10.984624",
     "exception": false,
     "start_time": "2023-07-02T20:58:10.491916",
     "status": "completed"
    },
    "tags": []
   },
   "outputs": [
    {
     "name": "stderr",
     "output_type": "stream",
     "text": [
      "/tmp/ipykernel_21/1260003490.py:2: FutureWarning: The default value of numeric_only in DataFrame.corr is deprecated. In a future version, it will default to False. Select only valid columns or specify the value of numeric_only to silence this warning.\n",
      "  saleprice_corr = data_encoded.corr()[['Survived']].sort_values(by='Survived', ascending=False)\n"
     ]
    },
    {
     "data": {
      "image/png": "[encoded data removed]",
      "text/plain": [
       "<Figure size 800x600 with 2 Axes>"
      ]
     },
     "metadata": {},
     "output_type": "display_data"
    }
   ],
   "source": [
    "fig, ax = plt.subplots(figsize=(8,6))\n",
    "saleprice_corr = data_encoded.corr()[['Survived']].sort_values(by='Survived', ascending=False)\n",
    "sns.heatmap(saleprice_corr, annot=True, ax=ax)\n",
    "plt.show()"
   ]
  },
  {
   "cell_type": "markdown",
   "id": "ed87a50d",
   "metadata": {
    "papermill": {
     "duration": 0.026383,
     "end_time": "2023-07-02T20:58:11.037205",
     "exception": false,
     "start_time": "2023-07-02T20:58:11.010822",
     "status": "completed"
    },
    "tags": []
   },
   "source": [
    "# Machine Learning Predictions"
   ]
  },
  {
   "cell_type": "markdown",
   "id": "9b8c3475",
   "metadata": {
    "papermill": {
     "duration": 0.025997,
     "end_time": "2023-07-02T20:58:11.089701",
     "exception": false,
     "start_time": "2023-07-02T20:58:11.063704",
     "status": "completed"
    },
    "tags": []
   },
   "source": [
    "Creating Final Dataframe for ML Predictions"
   ]
  },
  {
   "cell_type": "code",
   "execution_count": 28,
   "id": "f55970ec",
   "metadata": {
    "execution": {
     "iopub.execute_input": "2023-07-02T20:58:11.145311Z",
     "iopub.status.busy": "2023-07-02T20:58:11.143991Z",
     "iopub.status.idle": "2023-07-02T20:58:11.151965Z",
     "shell.execute_reply": "2023-07-02T20:58:11.151096Z"
    },
    "papermill": {
     "duration": 0.038268,
     "end_time": "2023-07-02T20:58:11.154298",
     "exception": false,
     "start_time": "2023-07-02T20:58:11.116030",
     "status": "completed"
    },
    "tags": []
   },
   "outputs": [],
   "source": [
    "final_df = data_encoded[['Survived', 'Pclass', 'Age', 'SibSp', 'Parch', 'Fare', \n",
    "                         'Embarked_C', 'Embarked_Q', 'Embarked_S', 'Sex_female','Sex_male']]"
   ]
  },
  {
   "cell_type": "markdown",
   "id": "88c62a14",
   "metadata": {
    "papermill": {
     "duration": 0.026889,
     "end_time": "2023-07-02T20:58:11.207688",
     "exception": false,
     "start_time": "2023-07-02T20:58:11.180799",
     "status": "completed"
    },
    "tags": []
   },
   "source": [
    "Viewing Dataframe"
   ]
  },
  {
   "cell_type": "code",
   "execution_count": 29,
   "id": "e5451cde",
   "metadata": {
    "execution": {
     "iopub.execute_input": "2023-07-02T20:58:11.265157Z",
     "iopub.status.busy": "2023-07-02T20:58:11.263807Z",
     "iopub.status.idle": "2023-07-02T20:58:11.278124Z",
     "shell.execute_reply": "2023-07-02T20:58:11.276960Z"
    },
    "papermill": {
     "duration": 0.046151,
     "end_time": "2023-07-02T20:58:11.280827",
     "exception": false,
     "start_time": "2023-07-02T20:58:11.234676",
     "status": "completed"
    },
    "tags": []
   },
   "outputs": [
    {
     "data": {
      "text/plain": [
       "PassengerId      0\n",
       "Pclass           0\n",
       "Name             0\n",
       "Age              0\n",
       "SibSp            0\n",
       "Parch            0\n",
       "Ticket           0\n",
       "Fare             0\n",
       "Cabin          327\n",
       "Embarked_C       0\n",
       "Embarked_Q       0\n",
       "Embarked_S       0\n",
       "Sex_female       0\n",
       "Sex_male         0\n",
       "dtype: int64"
      ]
     },
     "execution_count": 29,
     "metadata": {},
     "output_type": "execute_result"
    }
   ],
   "source": [
    "test_df_encoded['Age'] = test_df_encoded['Age'].fillna(median_age)\n",
    "test_df_encoded['Fare'] = test_df_encoded['Fare'].fillna(26)\n",
    "test_df_encoded.isna().sum()"
   ]
  },
  {
   "cell_type": "markdown",
   "id": "245015e4",
   "metadata": {
    "papermill": {
     "duration": 0.026324,
     "end_time": "2023-07-02T20:58:11.334087",
     "exception": false,
     "start_time": "2023-07-02T20:58:11.307763",
     "status": "completed"
    },
    "tags": []
   },
   "source": [
    "Features and Target Dataframes"
   ]
  },
  {
   "cell_type": "code",
   "execution_count": 30,
   "id": "48a54084",
   "metadata": {
    "execution": {
     "iopub.execute_input": "2023-07-02T20:58:11.391998Z",
     "iopub.status.busy": "2023-07-02T20:58:11.391190Z",
     "iopub.status.idle": "2023-07-02T20:58:11.401460Z",
     "shell.execute_reply": "2023-07-02T20:58:11.400304Z"
    },
    "papermill": {
     "duration": 0.042897,
     "end_time": "2023-07-02T20:58:11.403786",
     "exception": false,
     "start_time": "2023-07-02T20:58:11.360889",
     "status": "completed"
    },
    "tags": []
   },
   "outputs": [
    {
     "name": "stdout",
     "output_type": "stream",
     "text": [
      "(891, 10) (891,) (418, 10)\n"
     ]
    }
   ],
   "source": [
    "y = final_df[\"Survived\"]\n",
    "\n",
    "features = ['Pclass', 'Age', 'SibSp', 'Parch', 'Fare', \n",
    "                         'Embarked_C', 'Embarked_Q', 'Embarked_S', 'Sex_female','Sex_male']\n",
    "X = final_df[features]\n",
    "X_test = test_df_encoded[features]\n",
    "\n",
    "\n",
    "print(X.shape, y.shape, X_test.shape)"
   ]
  },
  {
   "cell_type": "code",
   "execution_count": 31,
   "id": "aa97d7de",
   "metadata": {
    "execution": {
     "iopub.execute_input": "2023-07-02T20:58:11.460630Z",
     "iopub.status.busy": "2023-07-02T20:58:11.459916Z",
     "iopub.status.idle": "2023-07-02T20:58:11.787659Z",
     "shell.execute_reply": "2023-07-02T20:58:11.785671Z"
    },
    "papermill": {
     "duration": 0.36036,
     "end_time": "2023-07-02T20:58:11.790910",
     "exception": false,
     "start_time": "2023-07-02T20:58:11.430550",
     "status": "completed"
    },
    "tags": []
   },
   "outputs": [
    {
     "name": "stdout",
     "output_type": "stream",
     "text": [
      "84.29\n",
      "Your submission was successfully saved!\n"
     ]
    }
   ],
   "source": [
    "rfc_model = RandomForestClassifier(n_estimators=100, max_depth=5, random_state=1)\n",
    "rfc_model.fit(X, y)\n",
    "predictions = rfc_model.predict(X_test)\n",
    "\n",
    "rfc_score = round(rfc_model.score(X, y) * 100, 2)\n",
    "print(rfc_score)\n",
    "output = pd.DataFrame({'PassengerId': test_df.PassengerId, 'Survived': predictions})\n",
    "output.to_csv('submission.csv', index=False)\n",
    "print(\"Your submission was successfully saved!\")"
   ]
  },
  {
   "cell_type": "code",
   "execution_count": 32,
   "id": "e56ba39b",
   "metadata": {
    "execution": {
     "iopub.execute_input": "2023-07-02T20:58:11.850019Z",
     "iopub.status.busy": "2023-07-02T20:58:11.849580Z",
     "iopub.status.idle": "2023-07-02T20:58:11.863046Z",
     "shell.execute_reply": "2023-07-02T20:58:11.861893Z"
    },
    "papermill": {
     "duration": 0.044787,
     "end_time": "2023-07-02T20:58:11.865436",
     "exception": false,
     "start_time": "2023-07-02T20:58:11.820649",
     "status": "completed"
    },
    "tags": []
   },
   "outputs": [
    {
     "name": "stdout",
     "output_type": "stream",
     "text": [
      "61.62\n",
      "Your submission was successfully saved!\n"
     ]
    }
   ],
   "source": [
    "dummy_model = DummyClassifier()\n",
    "dummy_model.fit(X, y)\n",
    "\n",
    "# Predict the target variable on the test set\n",
    "y_pred = dummy_model.predict(X_test)\n",
    "\n",
    "dummy_score = round(dummy_model.score(X, y) * 100, 2)\n",
    "print(dummy_score)\n",
    "\n",
    "output = pd.DataFrame({'PassengerId': test_df.PassengerId, 'Survived': predictions})\n",
    "output.to_csv('submission.csv', index=False)\n",
    "print(\"Your submission was successfully saved!\")"
   ]
  },
  {
   "cell_type": "code",
   "execution_count": 33,
   "id": "6b2225ea",
   "metadata": {
    "execution": {
     "iopub.execute_input": "2023-07-02T20:58:11.921544Z",
     "iopub.status.busy": "2023-07-02T20:58:11.921063Z",
     "iopub.status.idle": "2023-07-02T20:58:11.979853Z",
     "shell.execute_reply": "2023-07-02T20:58:11.978534Z"
    },
    "papermill": {
     "duration": 0.089818,
     "end_time": "2023-07-02T20:58:11.982259",
     "exception": false,
     "start_time": "2023-07-02T20:58:11.892441",
     "status": "completed"
    },
    "tags": []
   },
   "outputs": [
    {
     "name": "stdout",
     "output_type": "stream",
     "text": [
      "80.25\n",
      "Your submission was successfully saved!\n"
     ]
    },
    {
     "name": "stderr",
     "output_type": "stream",
     "text": [
      "/opt/conda/lib/python3.10/site-packages/sklearn/linear_model/_logistic.py:458: ConvergenceWarning: lbfgs failed to converge (status=1):\n",
      "STOP: TOTAL NO. of ITERATIONS REACHED LIMIT.\n",
      "\n",
      "Increase the number of iterations (max_iter) or scale the data as shown in:\n",
      "    https://scikit-learn.org/stable/modules/preprocessing.html\n",
      "Please also refer to the documentation for alternative solver options:\n",
      "    https://scikit-learn.org/stable/modules/linear_model.html#logistic-regression\n",
      "  n_iter_i = _check_optimize_result(\n"
     ]
    }
   ],
   "source": [
    "lr_model = LogisticRegression(random_state=12345)\n",
    "lr_model.fit(X, y)\n",
    "y_pred = lr_model.predict(X_test)\n",
    "\n",
    "lr_score = round(lr_model.score(X, y) * 100, 2)\n",
    "print(lr_score)\n",
    "output = pd.DataFrame({'PassengerId': test_df.PassengerId, 'Survived': predictions})\n",
    "output.to_csv('submission.csv', index=False)\n",
    "print(\"Your submission was successfully saved!\")"
   ]
  },
  {
   "cell_type": "code",
   "execution_count": 34,
   "id": "23208bdd",
   "metadata": {
    "execution": {
     "iopub.execute_input": "2023-07-02T20:58:12.039019Z",
     "iopub.status.busy": "2023-07-02T20:58:12.038579Z",
     "iopub.status.idle": "2023-07-02T20:58:12.152473Z",
     "shell.execute_reply": "2023-07-02T20:58:12.151428Z"
    },
    "papermill": {
     "duration": 0.145434,
     "end_time": "2023-07-02T20:58:12.155420",
     "exception": false,
     "start_time": "2023-07-02T20:58:12.009986",
     "status": "completed"
    },
    "tags": []
   },
   "outputs": [
    {
     "name": "stdout",
     "output_type": "stream",
     "text": [
      "90.68\n",
      "Your submission was successfully saved!\n"
     ]
    }
   ],
   "source": [
    "xgb_model = XGBClassifier(n_estimators=40, max_depth=10, eta=0.1, subsample=0.7, colsample_bytree=0.8)\n",
    "xgb_model.fit(X, y)\n",
    "xgb_class_pred = xgb_model.predict(X_test)\n",
    "\n",
    "xgb_score = round(xgb_model.score(X, y) * 100, 2)\n",
    "print(xgb_score)\n",
    "output = pd.DataFrame({'PassengerId': test_df.PassengerId, 'Survived': predictions})\n",
    "output.to_csv('submission.csv', index=False)\n",
    "print(\"Your submission was successfully saved!\")"
   ]
  },
  {
   "cell_type": "code",
   "execution_count": 35,
   "id": "deb194e8",
   "metadata": {
    "execution": {
     "iopub.execute_input": "2023-07-02T20:58:12.213960Z",
     "iopub.status.busy": "2023-07-02T20:58:12.212770Z",
     "iopub.status.idle": "2023-07-02T20:58:12.405895Z",
     "shell.execute_reply": "2023-07-02T20:58:12.404931Z"
    },
    "papermill": {
     "duration": 0.224818,
     "end_time": "2023-07-02T20:58:12.408837",
     "exception": false,
     "start_time": "2023-07-02T20:58:12.184019",
     "status": "completed"
    },
    "tags": []
   },
   "outputs": [
    {
     "name": "stdout",
     "output_type": "stream",
     "text": [
      "94.28\n",
      "Your submission was successfully saved!\n"
     ]
    }
   ],
   "source": [
    "xgb_withparams_model = XGBClassifier(n_estimators=100, max_depth=10, eta=0.1, subsample=0.7, colsample_bytree=0.8)\n",
    "xgb_withparams_model.fit(X, y)\n",
    "xgb_pred = xgb_withparams_model.predict(X_test)\n",
    "xgb_withparams_score = round(xgb_withparams_model.score(X, y) * 100, 2)\n",
    "print(xgb_withparams_score)\n",
    "\n",
    "output = pd.DataFrame({'PassengerId': test_df.PassengerId, 'Survived': xgb_pred})\n",
    "output.to_csv('submission.csv', index=False)\n",
    "print(\"Your submission was successfully saved!\")"
   ]
  },
  {
   "cell_type": "code",
   "execution_count": 36,
   "id": "06c91d1b",
   "metadata": {
    "execution": {
     "iopub.execute_input": "2023-07-02T20:58:12.467720Z",
     "iopub.status.busy": "2023-07-02T20:58:12.467296Z",
     "iopub.status.idle": "2023-07-02T20:58:12.482075Z",
     "shell.execute_reply": "2023-07-02T20:58:12.480919Z"
    },
    "papermill": {
     "duration": 0.047066,
     "end_time": "2023-07-02T20:58:12.484542",
     "exception": false,
     "start_time": "2023-07-02T20:58:12.437476",
     "status": "completed"
    },
    "tags": []
   },
   "outputs": [
    {
     "data": {
      "text/html": [
       "<div>\n",
       "<style scoped>\n",
       "    .dataframe tbody tr th:only-of-type {\n",
       "        vertical-align: middle;\n",
       "    }\n",
       "\n",
       "    .dataframe tbody tr th {\n",
       "        vertical-align: top;\n",
       "    }\n",
       "\n",
       "    .dataframe thead th {\n",
       "        text-align: right;\n",
       "    }\n",
       "</style>\n",
       "<table border=\"1\" class=\"dataframe\">\n",
       "  <thead>\n",
       "    <tr style=\"text-align: right;\">\n",
       "      <th></th>\n",
       "      <th>Model</th>\n",
       "      <th>Score</th>\n",
       "    </tr>\n",
       "  </thead>\n",
       "  <tbody>\n",
       "    <tr>\n",
       "      <th>4</th>\n",
       "      <td>XGBClassifier100estimators</td>\n",
       "      <td>94.28</td>\n",
       "    </tr>\n",
       "    <tr>\n",
       "      <th>3</th>\n",
       "      <td>XGBClassifier</td>\n",
       "      <td>90.68</td>\n",
       "    </tr>\n",
       "    <tr>\n",
       "      <th>0</th>\n",
       "      <td>RandomForestClassifier</td>\n",
       "      <td>84.29</td>\n",
       "    </tr>\n",
       "    <tr>\n",
       "      <th>2</th>\n",
       "      <td>Logistic Regression</td>\n",
       "      <td>80.25</td>\n",
       "    </tr>\n",
       "    <tr>\n",
       "      <th>1</th>\n",
       "      <td>DummyClassifier</td>\n",
       "      <td>61.62</td>\n",
       "    </tr>\n",
       "  </tbody>\n",
       "</table>\n",
       "</div>"
      ],
      "text/plain": [
       "                        Model  Score\n",
       "4  XGBClassifier100estimators  94.28\n",
       "3               XGBClassifier  90.68\n",
       "0      RandomForestClassifier  84.29\n",
       "2         Logistic Regression  80.25\n",
       "1             DummyClassifier  61.62"
      ]
     },
     "execution_count": 36,
     "metadata": {},
     "output_type": "execute_result"
    }
   ],
   "source": [
    "models = pd.DataFrame({\n",
    "    'Model': ['RandomForestClassifier', 'DummyClassifier', 'Logistic Regression', \n",
    "              'XGBClassifier', 'XGBClassifier100estimators'],\n",
    "    'Score': [rfc_score, dummy_score, lr_score, \n",
    "              xgb_score, xgb_withparams_score]})\n",
    "models.sort_values(by='Score', ascending=False)"
   ]
  },
  {
   "cell_type": "code",
   "execution_count": 37,
   "id": "18dcbe1f",
   "metadata": {
    "execution": {
     "iopub.execute_input": "2023-07-02T20:58:12.542701Z",
     "iopub.status.busy": "2023-07-02T20:58:12.542277Z",
     "iopub.status.idle": "2023-07-02T20:58:12.548452Z",
     "shell.execute_reply": "2023-07-02T20:58:12.547110Z"
    },
    "papermill": {
     "duration": 0.039156,
     "end_time": "2023-07-02T20:58:12.551142",
     "exception": false,
     "start_time": "2023-07-02T20:58:12.511986",
     "status": "completed"
    },
    "tags": []
   },
   "outputs": [],
   "source": [
    "submission = pd.DataFrame({\n",
    "        \"PassengerId\": test_df[\"PassengerId\"],\n",
    "        \"Survived\": xgb_class_pred\n",
    "    })\n"
   ]
  }
 ],
 "metadata": {
  "kernelspec": {
   "display_name": "Python 3",
   "language": "python",
   "name": "python3"
  },
  "language_info": {
   "codemirror_mode": {
    "name": "ipython",
    "version": 3
   },
   "file_extension": ".py",
   "mimetype": "text/x-python",
   "name": "python",
   "nbconvert_exporter": "python",
   "pygments_lexer": "ipython3",
   "version": "3.10.10"
  },
  "papermill": {
   "default_parameters": {},
   "duration": 27.378533,
   "end_time": "2023-07-02T20:58:13.903400",
   "environment_variables": {},
   "exception": null,
   "input_path": "__notebook__.ipynb",
   "output_path": "__notebook__.ipynb",
   "parameters": {},
   "start_time": "2023-07-02T20:57:46.524867",
   "version": "2.4.0"
  }
 },
 "nbformat": 4,
 "nbformat_minor": 5
}
